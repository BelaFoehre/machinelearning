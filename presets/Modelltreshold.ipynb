{
  "nbformat": 4,
  "nbformat_minor": 0,
  "metadata": {
    "colab": {
      "name": "Übung9_Modelltreshold.ipynb",
      "provenance": [],
      "collapsed_sections": []
    },
    "kernelspec": {
      "name": "python3",
      "display_name": "Python 3"
    },
    "language_info": {
      "name": "python"
    }
  },
  "cells": [
    {
      "cell_type": "markdown",
      "metadata": {
        "id": "CDCDe4hwOzY4"
      },
      "source": [
        "## Grundlagen Maschineller Lernverfahren | ML_INF19A | 2021\n",
        "**Datum: 09.11.2021**"
      ]
    },
    {
      "cell_type": "markdown",
      "metadata": {
        "id": "WYG_Cd4Djnla"
      },
      "source": [
        "#Threshold anpassen"
      ]
    },
    {
      "cell_type": "markdown",
      "metadata": {
        "id": "lSWJv1yXZlug"
      },
      "source": [
        "### Daten"
      ]
    },
    {
      "cell_type": "code",
      "metadata": {
        "id": "Ijxe8i60joxf"
      },
      "source": [
        "from sklearn.datasets import make_classification\n",
        "\n",
        "import matplotlib.pyplot as plt\n",
        "import numpy as np\n",
        "\n",
        "\n",
        "# Erstelle Datensatz für Klassifikation\n",
        "# Hinweis: Gewichtung führt dazu, dass der Datensatz ein starkes Ungleichgewicht beinhaltet\n",
        "# Dokumentation: https://scikit-learn.org/stable/modules/generated/sklearn.datasets.make_classification.html\n",
        "X, y = make_classification(n_samples=10000, n_features=2, n_redundant=0,\n",
        "\tn_clusters_per_class=1, weights=[0.99, 0.01], flip_y=0, random_state=2021)\n"
      ],
      "execution_count": null,
      "outputs": []
    },
    {
      "cell_type": "code",
      "metadata": {
        "id": "Jg8D11UqRFxg"
      },
      "source": [
        "# Zeige Labels\n",
        "print(y)"
      ],
      "execution_count": null,
      "outputs": []
    },
    {
      "cell_type": "code",
      "metadata": {
        "id": "TQQQN3egQh7p"
      },
      "source": [
        "# Wieviele Instanzen welcher Klasse gibt es?\n",
        "print(np.count_nonzero(y)) # Anzahl Labels mit Klasse 1\n",
        "print(X.shape[0] - np.count_nonzero(y)) # Anzahl Labels mit Klasse 0"
      ],
      "execution_count": null,
      "outputs": []
    },
    {
      "cell_type": "code",
      "metadata": {
        "id": "Yy2cblPDQfDo"
      },
      "source": [
        "# Visualisiere\n",
        "plt.figure()\n",
        "plt.plot(X[:, 0][y==0], X[:, 1][y==0], \"bv\")\n",
        "plt.plot(X[:, 0][y==1], X[:, 1][y==1], \"go\")\n",
        "plt.show()"
      ],
      "execution_count": null,
      "outputs": []
    },
    {
      "cell_type": "code",
      "metadata": {
        "id": "oQSVIPD2QbyJ"
      },
      "source": [
        "from sklearn.model_selection import train_test_split\n",
        "\n",
        "# Aufteilen der Datenmenge für Training und Testing\n",
        "X_train, X_test, y_train, y_test = train_test_split(X, y, test_size=0.25, random_state=2021, stratify=y)"
      ],
      "execution_count": null,
      "outputs": []
    },
    {
      "cell_type": "markdown",
      "metadata": {
        "id": "nehlU7UDZjLv"
      },
      "source": [
        "### Modell"
      ]
    },
    {
      "cell_type": "code",
      "metadata": {
        "id": "dQzJR5AfPPaQ"
      },
      "source": [
        "# Bibliothek des Log Reg Modell laden\n",
        "from sklearn.linear_model import LogisticRegression\n",
        "\n",
        "# Log Reg Modell erstellen und trainieren\n",
        "model = LogisticRegression()\n",
        "model.fit(X_train, y_train)"
      ],
      "execution_count": null,
      "outputs": []
    },
    {
      "cell_type": "code",
      "metadata": {
        "id": "2wpLuorzPGsM"
      },
      "source": [
        "# Vorhersage / Vorschläge des Modells errechnen für die Testdaten\n",
        "y_test_pred = model.predict(X_test) # Standard Threshold -> z >= 0.5 (vgl. Vorlesung)"
      ],
      "execution_count": null,
      "outputs": []
    },
    {
      "cell_type": "code",
      "metadata": {
        "id": "qhTrCT52lKml"
      },
      "source": [
        "# Ermittle Performancewerte\n",
        "from sklearn.metrics import accuracy_score, precision_score, recall_score, f1_score\n",
        "\n",
        "print(\"Accuracy:\\t\", accuracy_score(y_test, y_test_pred))\n",
        "print(\"Precision:\\t\", precision_score(y_test, y_test_pred))\n",
        "print(\"Recall:\\t\\t\", recall_score(y_test, y_test_pred))\n",
        "print(\"F1 Score:\\t\", f1_score(y_test, y_test_pred))"
      ],
      "execution_count": null,
      "outputs": []
    },
    {
      "cell_type": "code",
      "metadata": {
        "id": "GjhL1Ii5PXAo"
      },
      "source": [
        "# Welche Wahrscheinlichkeiten für welche Klasse hat das Modell bestimmt?\n",
        "y_test_pred_proba = model.predict_proba(X_test)\n",
        "\n",
        "# Dimension: (Instanzen, #Klassen)\n",
        "y_test_pred_proba.shape"
      ],
      "execution_count": null,
      "outputs": []
    },
    {
      "cell_type": "code",
      "metadata": {
        "id": "XmQ2qkJ9PfEY"
      },
      "source": [
        "# Zeige Klassenwahrscheinlichkeiten für jede Instanz an\n",
        "print(y_test_pred_proba) # (Klasse 0 (neg), Klasse 1 (pos))"
      ],
      "execution_count": null,
      "outputs": []
    },
    {
      "cell_type": "code",
      "metadata": {
        "id": "k7ilWiuhPFbN"
      },
      "source": [
        "# Zeige, dass Default Threshold >= 0.5 ist\n",
        "y_test_pred_threshold = (model.predict_proba(X_test)[:,1] >= 0.5).astype(int)"
      ],
      "execution_count": null,
      "outputs": []
    },
    {
      "cell_type": "code",
      "metadata": {
        "id": "ivXYfMEoSX0x"
      },
      "source": [
        "# Prüfen ob Ergebnisse identisch sind\n",
        "assert np.all(y_test_pred == y_test_pred_threshold)"
      ],
      "execution_count": null,
      "outputs": []
    },
    {
      "cell_type": "markdown",
      "metadata": {
        "id": "HTmU4HA4Zqrg"
      },
      "source": [
        "### Performance"
      ]
    },
    {
      "cell_type": "code",
      "metadata": {
        "id": "Ls9_OW_Mpq73"
      },
      "source": [
        "from sklearn.metrics import confusion_matrix\n",
        "\n",
        "# Confusion Matrix berechnen\n",
        "conf_matrix = confusion_matrix(y_test, y_test_pred)\n",
        "print(conf_matrix)"
      ],
      "execution_count": null,
      "outputs": []
    },
    {
      "cell_type": "code",
      "metadata": {
        "id": "QIE-EI8jT2zI"
      },
      "source": [
        "# Extrahiere nur die Wahrscheinlichkeiten für die POSITIVE Klasse (hier also Label = 1)\n",
        "y_test_pred_proba_class1 = y_test_pred_proba[:, 1]"
      ],
      "execution_count": null,
      "outputs": []
    },
    {
      "cell_type": "code",
      "metadata": {
        "id": "rPl6fG3PT21v"
      },
      "source": [
        "from sklearn.metrics import roc_curve\n",
        "\n",
        "# Berechne die ROC Kurve (Grafische Darstellung der PErformance eines binären Klassifikators)\n",
        "# https://scikit-learn.org/stable/modules/generated/sklearn.metrics.roc_curve.html\n",
        "fpr, tpr, thresholds = roc_curve(y_test, y_test_pred_proba_class1)"
      ],
      "execution_count": null,
      "outputs": []
    },
    {
      "cell_type": "code",
      "metadata": {
        "id": "Yew3ZRsxUa_p"
      },
      "source": [
        "# Zeichne die ROC Kurve\n",
        "plt.figure()\n",
        "plt.plot([0,1], [0,1], linestyle='--', label='Zufall')\n",
        "plt.plot(fpr, tpr, marker='.', label='Log. Reg.')\n",
        "plt.xlabel('False Positive Rate')\n",
        "plt.ylabel('True Positive Rate')\n",
        "plt.legend()\n",
        "plt.show()"
      ],
      "execution_count": null,
      "outputs": []
    },
    {
      "cell_type": "markdown",
      "metadata": {
        "id": "RVYEvxqGZvOI"
      },
      "source": [
        "### Geometrisches Mittel"
      ]
    },
    {
      "cell_type": "code",
      "metadata": {
        "id": "Tkfk-YDAnSsg"
      },
      "source": [
        "# Berechne geometrisches Mittel für alle Thresholds der ROC Kurve\n",
        "gmeans = np.sqrt(tpr * (1-fpr)) # https://de.wikipedia.org/wiki/Geometrisches_Mittel\n",
        "\n",
        "# locate the index of the largest g-mean\n",
        "# Identifiziere den größten Wert des geom. Mittels\n",
        "idx = np.argmax(gmeans)\n",
        "print('Bester Threshold=%.5f, Geometrisches Mittel=%.5f' % (thresholds[idx], gmeans[idx]))"
      ],
      "execution_count": null,
      "outputs": []
    },
    {
      "cell_type": "code",
      "metadata": {
        "id": "vv7ct-JBVlEi"
      },
      "source": [
        "# Zeichne besten Threshold ein (über Werte von FPR und TPR bei diesem Wert)\n",
        "plt.figure()\n",
        "plt.plot([0,1], [0,1], linestyle='--', label='Zufall')\n",
        "plt.plot(fpr, tpr, marker='.', label='Log. Reg.')\n",
        "plt.scatter(fpr[idx], tpr[idx], marker='o', color='black', label='Best')\n",
        "plt.xlabel('False Positive Rate')\n",
        "plt.ylabel('True Positive Rate')\n",
        "plt.legend()\n",
        "plt.show()"
      ],
      "execution_count": null,
      "outputs": []
    },
    {
      "cell_type": "markdown",
      "metadata": {
        "id": "RwRQoUl-VuIP"
      },
      "source": [
        "## Modellverhalten bei angepassten  Thresholds"
      ]
    },
    {
      "cell_type": "code",
      "metadata": {
        "id": "nZza4pOCXCvX"
      },
      "source": [
        "# Aufbau der Confusion Matrix\n",
        "# TN  FP\n",
        "# FN  TP\n",
        "\n",
        "# Erinnerung:\n",
        "#############\n",
        "# Precision = TP / (TP + FP) --> Wieviele Ergebnisse sind \"sinnvoll\"\"? (d.h. der Anteil der TP zu den als POSITIVE ermittelten)\n",
        "# Recall = TP / (TP + FN)    --> Wieviele \"sinnvolle\" Ergebnisse wurden ermittelt? (d.h. der Anteil der TP zu den wirklich POSITIVEN)"
      ],
      "execution_count": null,
      "outputs": []
    },
    {
      "cell_type": "markdown",
      "metadata": {
        "id": "yZtbAB0nnP4s"
      },
      "source": [
        "### Threshold = 0.5 (Standard)"
      ]
    },
    {
      "cell_type": "code",
      "metadata": {
        "id": "9GIRjiaEWeV3"
      },
      "source": [
        "# ERINNERUNG: So würde das Stadardmodell vorhersagen\n",
        "####################################################\n",
        "\n",
        "# Standard Threshold = 0.5 (Referenz)\n",
        "# Confusion Matrix berechnen\n",
        "conf_matrix = confusion_matrix(y_test, y_test_pred)\n",
        "print(conf_matrix)\n",
        "\n",
        "print(\"Accuracy:\\t\", accuracy_score(y_test, y_test_pred))\n",
        "print(\"Precision:\\t\", precision_score(y_test, y_test_pred))\n",
        "print(\"Recall:\\t\\t\", recall_score(y_test, y_test_pred))\n",
        "print(\"F1 Score:\\t\", f1_score(y_test, y_test_pred))"
      ],
      "execution_count": null,
      "outputs": []
    },
    {
      "cell_type": "code",
      "metadata": {
        "id": "NCGEo7vKXqSn"
      },
      "source": [
        "# Erinnerung: Datensatz beinhaltet sehr wenige \"POSITIVE\" Klassen (-> 100), aber sehr viele \"NEGATIVE\" (->9900)\n",
        "# Ziel ist es auch möglichst viele \"POSITIVE\" vorzuschlagen"
      ],
      "execution_count": null,
      "outputs": []
    },
    {
      "cell_type": "markdown",
      "metadata": {
        "id": "9a2-YFDvnAiM"
      },
      "source": [
        "### Threshold = 0.015"
      ]
    },
    {
      "cell_type": "code",
      "metadata": {
        "id": "Rgq8h4zyrvlq"
      },
      "source": [
        "# Setze Threshold auf 0.015 (~ bester berechneter Wert laut ROC Kurve, vgl. oben)\n",
        "y_test_pred_threshold = (model.predict_proba(X_test)[:,1] >= 0.015).astype(int)\n",
        "conf_matrix_threshold = confusion_matrix(y_test, y_test_pred_threshold)\n",
        "print(conf_matrix_threshold)\n",
        "\n",
        "# Ergebnis: \n",
        "#############\n",
        "# - weniger TN\n",
        "# - mehr TP\n",
        "# - weniger FN (unterbliebender Alarm)\n",
        "# - mehr FP (Fehlalarme)\n",
        "\n",
        "# -> Tendenz geht dahin, mehr Instanzen der \"POSITIVEN\" Klasse zuzuordnen (was auch gewünscht ist)"
      ],
      "execution_count": null,
      "outputs": []
    },
    {
      "cell_type": "code",
      "metadata": {
        "id": "vblGidiFl9y2"
      },
      "source": [
        "print(\"Accuracy:\\t\", accuracy_score(y_test, y_test_pred_threshold))\n",
        "print(\"Precision:\\t\", precision_score(y_test, y_test_pred_threshold))\n",
        "print(\"Recall:\\t\\t\", recall_score(y_test, y_test_pred_threshold))\n",
        "print(\"F1 Score:\\t\", f1_score(y_test, y_test_pred_threshold))"
      ],
      "execution_count": null,
      "outputs": []
    },
    {
      "cell_type": "markdown",
      "metadata": {
        "id": "KItfg1IKnDc8"
      },
      "source": [
        "### Threshold = 0.99"
      ]
    },
    {
      "cell_type": "code",
      "metadata": {
        "id": "Ss-aDEk_vBs5"
      },
      "source": [
        "# Setze Threshold auf 0.99\n",
        "y_test_pred_threshold = (model.predict_proba(X_test)[:,1] >= 0.99).astype(int)\n",
        "conf_matrix_threshold = confusion_matrix(y_test, y_test_pred_threshold)\n",
        "print(conf_matrix_threshold)\n",
        "\n",
        "# Ergebnis: \n",
        "#############\n",
        "# - weniger TN\n",
        "# - weniger TP\n",
        "# - mehr FN (unterbliebender Alarm)\n",
        "# - gleich viele FP (Fehlalarme)\n",
        "\n",
        "# -> Tendenz geht dahin, mehr Instanzen der \"NEGATIVEN\" Klasse zuzuordnen"
      ],
      "execution_count": null,
      "outputs": []
    },
    {
      "cell_type": "code",
      "metadata": {
        "id": "ijFPk5xNmh09"
      },
      "source": [
        "print(\"Accuracy:\\t\", accuracy_score(y_test, y_test_pred_threshold))\n",
        "print(\"Precision:\\t\", precision_score(y_test, y_test_pred_threshold))\n",
        "print(\"Recall:\\t\\t\", recall_score(y_test, y_test_pred_threshold))\n",
        "print(\"F1 Score:\\t\", f1_score(y_test, y_test_pred_threshold))"
      ],
      "execution_count": null,
      "outputs": []
    },
    {
      "cell_type": "markdown",
      "metadata": {
        "id": "tVBvH1e0nFSs"
      },
      "source": [
        "### Threshold = 0.0005"
      ]
    },
    {
      "cell_type": "code",
      "metadata": {
        "id": "5-9g8khVWPEo"
      },
      "source": [
        "# Setze Threshold = 0.0005\n",
        "y_test_pred_threshold = (model.predict_proba(X_test)[:,1] >= 0.0005).astype(int)\n",
        "conf_matrix_threshold = confusion_matrix(y_test, y_test_pred_threshold)\n",
        "print(conf_matrix_threshold)\n",
        "\n",
        "# Ergebnis: \n",
        "#############\n",
        "# - viel weniger TN\n",
        "# - mehr TP\n",
        "# - weniger FN (unterbliebender Alarm)\n",
        "# - viel mehr FP (Fehlalarme)\n",
        "\n",
        "\n",
        "# -> Tendenz geht dahin, sehr viel mehr Instanzen der \"POSITIVEN\" Klasse zuzuordnen"
      ],
      "execution_count": null,
      "outputs": []
    },
    {
      "cell_type": "code",
      "metadata": {
        "id": "N4Q-lS6EmkQk"
      },
      "source": [
        "print(\"Accuracy:\\t\", accuracy_score(y_test, y_test_pred_threshold))\n",
        "print(\"Precision:\\t\", precision_score(y_test, y_test_pred_threshold))\n",
        "print(\"Recall:\\t\\t\", recall_score(y_test, y_test_pred_threshold))\n",
        "print(\"F1 Score:\\t\", f1_score(y_test, y_test_pred_threshold))"
      ],
      "execution_count": null,
      "outputs": []
    },
    {
      "cell_type": "code",
      "metadata": {
        "id": "kdjbOX_dvXEK"
      },
      "source": [
        "# HINWEIS: Nun können auch analog Accuracy, Precision, Recall und F1 Performancewerte berechnen werden.\n",
        "# Dies wird als \"Hausaufgabe\" empfohlen."
      ],
      "execution_count": null,
      "outputs": []
    }
  ]
}