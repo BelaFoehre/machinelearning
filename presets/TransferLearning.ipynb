{
  "nbformat": 4,
  "nbformat_minor": 0,
  "metadata": {
    "kernelspec": {
      "display_name": "Python 3",
      "language": "python",
      "name": "python3"
    },
    "language_info": {
      "codemirror_mode": {
        "name": "ipython",
        "version": 3
      },
      "file_extension": ".py",
      "mimetype": "text/x-python",
      "name": "python",
      "nbconvert_exporter": "python",
      "pygments_lexer": "ipython3",
      "version": "3.8.2"
    },
    "colab": {
      "name": "Übung8_TransferLearning.ipynb",
      "provenance": [],
      "collapsed_sections": []
    },
    "accelerator": "GPU"
  },
  "cells": [
    {
      "cell_type": "markdown",
      "metadata": {
        "id": "3pR-s-suU2PR"
      },
      "source": [
        "## Grundlagen Maschineller Lernverfahren | ML_INF19A | 2021\n",
        "**Datum: 02.11.2021**"
      ]
    },
    {
      "cell_type": "markdown",
      "metadata": {
        "id": "P5x-YAEYUtvi"
      },
      "source": [
        "# Transfer Learning (Neuronale Netzwerke)\n",
        "Ressourcen: https://www.tensorflow.org/api_docs/python/tf"
      ]
    },
    {
      "cell_type": "markdown",
      "metadata": {
        "id": "L-uHHIJYUtvr"
      },
      "source": [
        "## Lade Daten\n",
        "\n",
        "Verwende CIFAR10 Datensatz"
      ]
    },
    {
      "cell_type": "code",
      "metadata": {
        "id": "cHY0FDzqV_Ns"
      },
      "source": [
        "# Lade Bibliotheken\n",
        "from tensorflow.keras.datasets import cifar10 # https://www.cs.toronto.edu/~kriz/cifar.html"
      ],
      "execution_count": null,
      "outputs": []
    },
    {
      "cell_type": "code",
      "metadata": {
        "id": "VFB1mlmAUtvs"
      },
      "source": [
        "# Lade den Datensatz\n",
        "# Hinweis: Kann beim ersten Aufruf den Download starten\n",
        "(X_train, y_train), (X_test, y_test) = cifar10.load_data()"
      ],
      "execution_count": null,
      "outputs": []
    },
    {
      "cell_type": "markdown",
      "metadata": {
        "id": "7wm6IL7DZyOz"
      },
      "source": [
        "## Analysiere"
      ]
    },
    {
      "cell_type": "code",
      "metadata": {
        "id": "qyCTKk8_Utvv"
      },
      "source": [
        "# Anzeige der Dimensionen\n",
        "print(X_train.shape) # -> 50.000 32x32x3 Bilder (RGB)\n",
        "print(y_train.shape)\n",
        "print(X_test.shape)\n",
        "print(y_test.shape)"
      ],
      "execution_count": null,
      "outputs": []
    },
    {
      "cell_type": "code",
      "metadata": {
        "id": "-Zb3ZqhWXpTS"
      },
      "source": [
        "print(X_train[0])\n",
        "print(y_train[0])"
      ],
      "execution_count": null,
      "outputs": []
    },
    {
      "cell_type": "code",
      "metadata": {
        "id": "RIRPIQraYbNI"
      },
      "source": [
        "# Blick in die Label\n",
        "print(y_train) # -> nur Zahlen"
      ],
      "execution_count": null,
      "outputs": []
    },
    {
      "cell_type": "code",
      "metadata": {
        "id": "XZUhWZffX_MZ"
      },
      "source": [
        "# Nutze Informationen von der Homepage des Datensatzes um den Integer-Werten der Klassen aussagekräftige Labelnamne zuzuweisen\n",
        "# vgl. https://www.cs.toronto.edu/~kriz/cifar.html\n",
        "\n",
        "labels = ['Flugzeug', 'Auto', 'Vogel', 'Katze', 'Wild', 'Hund', 'Frosch', 'Pferd', 'Schiff', 'LKW']"
      ],
      "execution_count": null,
      "outputs": []
    },
    {
      "cell_type": "code",
      "metadata": {
        "id": "e2y08BWdUtv0"
      },
      "source": [
        "# Lade Bibliotheken\n",
        "import matplotlib.pyplot as plt\n",
        "import numpy as np"
      ],
      "execution_count": null,
      "outputs": []
    },
    {
      "cell_type": "code",
      "metadata": {
        "id": "768VomnoW9m5"
      },
      "source": [
        "# Gebe ein beliebiges Bild aus\n",
        "rnd_image = np.random.randint(0, X_train.shape[0]) # Wähle zufällig einen Index\n",
        "\n",
        "plt.imshow(X_train[rnd_image])\n",
        "plt.xticks([])\n",
        "plt.yticks([])\n",
        "plt.xlabel(\"Bild #%d (%s)\\n\" % (rnd_image, labels[y_train[rnd_image][0]]))"
      ],
      "execution_count": null,
      "outputs": []
    },
    {
      "cell_type": "markdown",
      "metadata": {
        "id": "2UHB6j-EZ2dJ"
      },
      "source": [
        "## Daten aufbereiten"
      ]
    },
    {
      "cell_type": "code",
      "metadata": {
        "id": "kznBoCLsasTv"
      },
      "source": [
        "# Lade Bibliothek zum Skalieren\n",
        "from tensorflow.keras.layers.experimental.preprocessing import Rescaling\n",
        "\n",
        "# Multipliziere alle Werte mit 1/255\n",
        "X_train = Rescaling(scale=1./255)(X_train)\n",
        "X_test = Rescaling(scale=1./255)(X_test)\n",
        "print(X_train) # Ausgabe ist jetzt Tensor (kein numpy Array mehr!)\n",
        "#print(X_test)"
      ],
      "execution_count": null,
      "outputs": []
    },
    {
      "cell_type": "code",
      "metadata": {
        "id": "IyHhk-1Ybn4D"
      },
      "source": [
        "# Exkurs: Tensor in Numpyarray konvertieren\n",
        "X_train_np = X_train.numpy()\n",
        "print(X_train_np)"
      ],
      "execution_count": null,
      "outputs": []
    },
    {
      "cell_type": "code",
      "metadata": {
        "id": "x9EOHrWfcorJ"
      },
      "source": [
        "# Lade Bibliothek zum Kippen des Bildes\n",
        "from tensorflow.keras.layers.experimental.preprocessing import RandomFlip\n",
        "\n",
        "# Führe Transformation aus\n",
        "X_train = RandomFlip(mode='horizontal')(X_train)\n",
        "X_test = RandomFlip(mode='horizontal')(X_test)\n",
        "\n",
        "# NUR zum TESTEN! -> unplausible Transformation\n",
        "#X_train = RandomFlip(mode='vertical')(X_train) "
      ],
      "execution_count": null,
      "outputs": []
    },
    {
      "cell_type": "code",
      "metadata": {
        "id": "URfsNiiVco3m"
      },
      "source": [
        "# Gebe ein beliebiges Bild aus\n",
        "rnd_image = np.random.randint(0, X_train.shape[0]) # Wähle zufällig einen Index\n",
        "\n",
        "plt.imshow(X_train[rnd_image])\n",
        "plt.xticks([])\n",
        "plt.yticks([])\n",
        "plt.xlabel(\"Bild #%d (%s)\\n\" % (rnd_image, labels[y_train[rnd_image][0]]))"
      ],
      "execution_count": null,
      "outputs": []
    },
    {
      "cell_type": "code",
      "metadata": {
        "id": "-QOOFHgghxdb"
      },
      "source": [
        "# Dimensionen der Trainingsdaten\n",
        "print(X_train.shape)\n",
        "\n",
        "# Sicherstellen, dass Trainings und Testdaten die gleiche Dimension haben\n",
        "assert X_train.shape[1:] == X_test.shape[1:] # Ignoriere Batch Dimension"
      ],
      "execution_count": null,
      "outputs": []
    },
    {
      "cell_type": "markdown",
      "metadata": {
        "id": "LB58TkacUtv_"
      },
      "source": [
        "## Lade Basis-Architektur\n",
        "\n",
        "Verwende die MobileNet Architektur: https://arxiv.org/abs/1704.04861"
      ]
    },
    {
      "cell_type": "code",
      "metadata": {
        "id": "5KMKIFIG7GTk"
      },
      "source": [
        "# Lade Bibliotheken\n",
        "from tensorflow.keras.applications import MobileNet # https://www.tensorflow.org/api_docs/python/tf/keras/applications/MobileNet"
      ],
      "execution_count": null,
      "outputs": []
    },
    {
      "cell_type": "code",
      "metadata": {
        "id": "a3gophDI7YH7"
      },
      "source": [
        "# Lade das Modell und die gelernten Gewichte für den Datensatz \"Imagenet\"\n",
        "base_model = MobileNet(input_shape=(None, None, 3), include_top=False, weights=\"imagenet\")"
      ],
      "execution_count": null,
      "outputs": []
    },
    {
      "cell_type": "code",
      "metadata": {
        "id": "lsdHXPbu7YKy"
      },
      "source": [
        "# Verhindere Parameteranpassungen im Base Model\n",
        "base_model.trainable = False"
      ],
      "execution_count": null,
      "outputs": []
    },
    {
      "cell_type": "code",
      "metadata": {
        "id": "k3l58oYV7YOB"
      },
      "source": [
        "# Zeige Base-model Struktur (also die des MobileNet) - ohne DNN Anteil\n",
        "base_model.summary()"
      ],
      "execution_count": null,
      "outputs": []
    },
    {
      "cell_type": "code",
      "metadata": {
        "id": "li-kU1zG4Bcb"
      },
      "source": [
        "# Zum Vergleich: mit DNN zur Klassifizierung\n",
        "base_model_2 = MobileNet(input_shape=(224, 224, 3),include_top=True, weights=\"imagenet\")\n",
        "base_model_2.summary()\n",
        "\n",
        "del base_model_2"
      ],
      "execution_count": null,
      "outputs": []
    },
    {
      "cell_type": "code",
      "metadata": {
        "id": "AY4CgsY2Utvl"
      },
      "source": [
        "# Lade Bibliotheken\n",
        "\n",
        "import tensorflow as tf\n",
        "\n",
        "# Input Layer\n",
        "from tensorflow.keras import Input, Model\n",
        "\n",
        "# Layer für Klassifikator\n",
        "from tensorflow.keras.layers import Dense, Flatten, Activation, Dropout"
      ],
      "execution_count": null,
      "outputs": []
    },
    {
      "cell_type": "code",
      "metadata": {
        "id": "NcZ8uILRi3qq"
      },
      "source": [
        "# Prüfe wieviele Label/Klassen in der Aufgabe vorkommen \n",
        "print(np.unique(y_train))\n",
        "\n",
        "# Bestimme die Anzahl der Knoten im Ausgabelayer\n",
        "num_classes = len(np.unique(y_train))\n",
        "print(num_classes)"
      ],
      "execution_count": null,
      "outputs": []
    },
    {
      "cell_type": "code",
      "metadata": {
        "id": "C2B-9nisUtwC"
      },
      "source": [
        "# Input Layer\n",
        "input = Input(shape=X_train.shape[1:], name='Input')\n",
        "\n",
        "\n",
        "# BLOCK: Datenvorberietung für Modell\n",
        "#############################\n",
        "x = tf.keras.applications.mobilenet.preprocess_input(input)\n",
        "\n",
        "# BLOCK: Merkmalsextraktion\n",
        "#############################\n",
        "\n",
        "x = base_model(x, training = False)\n",
        "\n",
        "# BLOCK: TRANSFORMATION\n",
        "#############################\n",
        "\n",
        "# Tranformation 2D -> 1D\n",
        "x = Flatten(name='FLATTEN')(x)\n",
        "\n",
        "# BLOCK: Klassifikation\n",
        "#############################\n",
        "\n",
        "# FC Layer 1\n",
        "x = Dense(512, name='Hidden1')(x)\n",
        "x = Activation('relu', name='Hidden1_Act')(x)\n",
        "x = Dropout(0.2)(x)\n",
        "\n",
        "# FC Layer 2\n",
        "x = Dense(128, name='Hidden2')(x)\n",
        "x = Activation('relu', name='Hidden2_Act')(x)\n",
        "x = Dropout(0.2)(x)\n",
        "\n",
        "# FC Layer 3\n",
        "x = Dense(64, name='Hidden3')(x)\n",
        "x = Activation('relu', name='Hidden3_Act')(x)\n",
        "x = Dropout(0.2)(x)\n",
        "\n",
        "# FC Layer 4\n",
        "x = Dense(32, name='Hidden4')(x)\n",
        "x = Activation('relu', name='Hidden4_Act')(x)\n",
        "x = Dropout(0.2)(x)\n",
        "\n",
        "# Output Layer\n",
        "x = Dense(num_classes, name='Output')(x)\n",
        "output = Activation('softmax', name='Output_softmax')(x)\n",
        "\n",
        "model = Model(input, output)"
      ],
      "execution_count": null,
      "outputs": []
    },
    {
      "cell_type": "code",
      "metadata": {
        "id": "UYwnxMLIiZbD"
      },
      "source": [
        "# Zeige Modellstruktur\n",
        "model.summary()"
      ],
      "execution_count": null,
      "outputs": []
    },
    {
      "cell_type": "code",
      "metadata": {
        "id": "CVviS8KHm_ib"
      },
      "source": [
        "# Modell als Bild ausgeben\n",
        "from tensorflow.keras.utils import plot_model\n",
        "plot_model(model, to_file='MobileNet_base.png', show_shapes=True, show_layer_names=True)"
      ],
      "execution_count": null,
      "outputs": []
    },
    {
      "cell_type": "code",
      "metadata": {
        "id": "Diz3YmsxUtwE"
      },
      "source": [
        "# Modell zusammenbauen\n",
        "model.compile(loss=\"categorical_crossentropy\", metrics=[\"accuracy\"], optimizer=tf.keras.optimizers.RMSprop(learning_rate=0.001))"
      ],
      "execution_count": null,
      "outputs": []
    },
    {
      "cell_type": "markdown",
      "metadata": {
        "id": "VWWT4LDKUtv4"
      },
      "source": [
        "## Vorbereiten der Label"
      ]
    },
    {
      "cell_type": "code",
      "metadata": {
        "id": "pLSd9oCzUtv5"
      },
      "source": [
        "# Lade Bibliothek\n",
        "from tensorflow.keras.utils import to_categorical\n",
        "\n",
        "# Prüfe Labeldimension\n",
        "print(y_train.shape) # 50000x1 Vektor\n",
        "\n",
        "# Umwandlung in One-Hot Vektor (vgl. Dokumentation \"to_categorical\")\n",
        "y_train_1hot = to_categorical(y_train, num_classes)\n",
        "y_test_1hot = to_categorical(y_test, num_classes)"
      ],
      "execution_count": null,
      "outputs": []
    },
    {
      "cell_type": "markdown",
      "metadata": {
        "id": "jgsrdTBcUtwI"
      },
      "source": [
        "## Model trainieren\n",
        "\n",
        "Erinnerung: Nur der \"Kopf\" Bereich des Modells wird trainiert - das Basismodell ist eingefroren."
      ]
    },
    {
      "cell_type": "code",
      "metadata": {
        "id": "DcAJdRnHUtwJ"
      },
      "source": [
        "# Trainieren und Verlauf des Trainings speichern\n",
        "history = model.fit(X_train, y_train_1hot, validation_data=(X_test, y_test_1hot), batch_size=200, epochs=5, verbose=1)"
      ],
      "execution_count": null,
      "outputs": []
    },
    {
      "cell_type": "markdown",
      "metadata": {
        "id": "Cu-VWo30pMOZ"
      },
      "source": [
        "## Trainingsverlauf analysieren"
      ]
    },
    {
      "cell_type": "code",
      "metadata": {
        "id": "tGSgtpoXpLsj"
      },
      "source": [
        "# Verläufe zeichnen\n",
        "plt.figure(figsize=(15,9))\n",
        "plt.plot(history.history['accuracy'], label='accuracy')\n",
        "plt.plot(history.history['val_accuracy'], label = 'val_accuracy')\n",
        "plt.xlabel('Epoche')\n",
        "plt.ylabel('Accuracy')\n",
        "plt.legend()"
      ],
      "execution_count": null,
      "outputs": []
    },
    {
      "cell_type": "markdown",
      "metadata": {
        "id": "XhKdWd28_AcW"
      },
      "source": [
        "## Fein-Tuning"
      ]
    },
    {
      "cell_type": "code",
      "metadata": {
        "id": "digYMBuJCkmZ"
      },
      "source": [
        "# Modell \"analysieren\"\n",
        "print(\"Anzahl Layer in Basis Modell (MobileNet): \", len(base_model.layers))\n",
        "print(\"Anzahl Layer in zusammengesetzen Modell (MobileNet + eigenes DNN): \", len(model.layers)) # Achtung: Die einzelnen MobileNet Layer sind hier in einem Layer abstrahiert!\n",
        "\n",
        "# Basis Modell \n",
        "base_model.trainable = True\n",
        "\n",
        "# Ab welchem Layer erlauben wir Parameteränderungen?\n",
        "num_layer_trainable = 65\n",
        "\n",
        "# Die ersten #<num_layer_trainable> Layer wieder vom Training ausschließen! Hinweis: Sind ja die Basismerkmale, die \"feineren\" Merkmale - also die tieferen Layer - sollen an aktuellen Datensatz angepasst werden.\n",
        "print(\"Die ersten \", num_layer_trainable, \" Layer des Basismodells werden wieder eingefroren.\")\n",
        "for layer in base_model.layers[num_layer_trainable:]:\n",
        "  layer.trainable =  False"
      ],
      "execution_count": null,
      "outputs": []
    },
    {
      "cell_type": "code",
      "metadata": {
        "id": "wfhP3TVU_vcC"
      },
      "source": [
        "#base_model.layers"
      ],
      "execution_count": null,
      "outputs": []
    },
    {
      "cell_type": "code",
      "metadata": {
        "id": "GdmwRSZr_4ty"
      },
      "source": [
        "#base_model.layers[:43]"
      ],
      "execution_count": null,
      "outputs": []
    },
    {
      "cell_type": "code",
      "metadata": {
        "id": "yTikfaUIDP0l"
      },
      "source": [
        "# Modell zusammenbauen\n",
        "model.compile(loss=\"categorical_crossentropy\", metrics=[\"accuracy\"], optimizer=tf.keras.optimizers.RMSprop(learning_rate=0.0001)) # Hinweis: Lernrate sollte nun etwas kleiner sein (wegen Anzahl trainierbarer Layer)"
      ],
      "execution_count": null,
      "outputs": []
    },
    {
      "cell_type": "code",
      "metadata": {
        "id": "rTBlkSY5DzP2"
      },
      "source": [
        "# Modell anzeigen\n",
        "model.summary()"
      ],
      "execution_count": null,
      "outputs": []
    },
    {
      "cell_type": "code",
      "metadata": {
        "id": "yl0KK1ixD6OY",
        "colab": {
          "base_uri": "https://localhost:8080/"
        },
        "outputId": "12231848-859d-40d3-a3f1-8c65c38e693f"
      },
      "source": [
        "# Weiter-Trainieren und Verlauf des Trainings speichern\n",
        "# Nochmal 5 Epochen dranhängen (5+5=10)\n",
        "\n",
        "history_fine_tuning = model.fit(X_train, y_train_1hot, validation_data=(X_test, y_test_1hot), batch_size=200, epochs=10, initial_epoch=history.epoch[-1] ,verbose=1)"
      ],
      "execution_count": null,
      "outputs": [
        {
          "output_type": "stream",
          "name": "stdout",
          "text": [
            "250/250 [==============================] - 18s 73ms/step - loss: 2.3085 - accuracy: 0.1013 - val_loss: 2.3032 - val_accuracy: 0.1000\n",
            "Epoch 7/10\n",
            " 75/250 [========>.....................] - ETA: 11s - loss: 2.3062 - accuracy: 0.1007"
          ]
        }
      ]
    },
    {
      "cell_type": "markdown",
      "metadata": {
        "id": "OhZBfNdKE9Bc"
      },
      "source": [
        "## Model verifizieren"
      ]
    },
    {
      "cell_type": "code",
      "metadata": {
        "id": "MSLfXTNpEu6V"
      },
      "source": [
        "# Model verifizieren auf Testdaten\n",
        "model.evaluate(X_test, y_test_1hot, verbose=1)"
      ],
      "execution_count": null,
      "outputs": []
    },
    {
      "cell_type": "markdown",
      "metadata": {
        "id": "gqrxdyXsE-g-"
      },
      "source": [
        "## Weiteren Trainingsverlauf analysieren"
      ]
    },
    {
      "cell_type": "code",
      "metadata": {
        "id": "q1t1S362Exnk"
      },
      "source": [
        "# Verläufe zeichnen\n",
        "plt.figure(figsize=(15,9))\n",
        "plt.plot(history_fine_tuning.history['accuracy'], label='accuracy')\n",
        "plt.plot(history_fine_tuning.history['val_accuracy'], label = 'val_accuracy')\n",
        "plt.xlabel('Epoche')\n",
        "plt.ylabel('Accuracy')\n",
        "plt.legend()"
      ],
      "execution_count": null,
      "outputs": []
    }
  ]
}