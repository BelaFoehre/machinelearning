{
  "nbformat": 4,
  "nbformat_minor": 0,
  "metadata": {
    "kernelspec": {
      "display_name": "Python 3",
      "language": "python",
      "name": "python3"
    },
    "language_info": {
      "codemirror_mode": {
        "name": "ipython",
        "version": 3
      },
      "file_extension": ".py",
      "mimetype": "text/x-python",
      "name": "python",
      "nbconvert_exporter": "python",
      "pygments_lexer": "ipython3",
      "version": "3.8.2"
    },
    "colab": {
      "name": "Übung3_Datenmanagement.ipynb",
      "provenance": [],
      "collapsed_sections": []
    }
  },
  "cells": [
    {
      "cell_type": "markdown",
      "metadata": {
        "id": "jvMvYH4R95bM"
      },
      "source": [
        "## Grundlagen Maschineller Lernverfahren | ML_INF19A | 2021\n",
        "**Datum: 12.10.2021**"
      ]
    },
    {
      "cell_type": "markdown",
      "metadata": {
        "id": "7mEpSJL7PdKW"
      },
      "source": [
        "# Datenmanagement"
      ]
    },
    {
      "cell_type": "code",
      "metadata": {
        "id": "RMSSIGy_PdKX"
      },
      "source": [
        "# Lade Bibliotheken\n",
        "\n",
        "import numpy as np\n",
        "import matplotlib.pyplot as plt"
      ],
      "execution_count": null,
      "outputs": []
    },
    {
      "cell_type": "markdown",
      "metadata": {
        "id": "LyQItIwCPdKs"
      },
      "source": [
        "### Scikit Learn Datensätze\n",
        "\n",
        "Ressource: https://scikit-learn.org/stable/modules/classes.html#module-sklearn.datasets"
      ]
    },
    {
      "cell_type": "code",
      "metadata": {
        "id": "JgLroJ7iPdKs"
      },
      "source": [
        "# Bibliothek für Regressions-Datensatz\n",
        "\n",
        "from sklearn.datasets import load_diabetes"
      ],
      "execution_count": null,
      "outputs": []
    },
    {
      "cell_type": "code",
      "metadata": {
        "id": "jGvrMWccha8W"
      },
      "source": [
        "# Lade Datensatz\n",
        "\n",
        "diabetes = load_diabetes() # Standardaufruf, keine Parameter"
      ],
      "execution_count": null,
      "outputs": []
    },
    {
      "cell_type": "code",
      "metadata": {
        "id": "Q8hQ9j2TPdKw"
      },
      "source": [
        "# Blick in Datensatz werfen\n",
        "\n",
        "diabetes"
      ],
      "execution_count": null,
      "outputs": []
    },
    {
      "cell_type": "code",
      "metadata": {
        "id": "aehWBpzFiK8h"
      },
      "source": [
        "# Datensatzbeschreibung anzeigen\n",
        "\n",
        "print(diabetes.DESCR) # \"Print\" hilft bei Formatierung"
      ],
      "execution_count": null,
      "outputs": []
    },
    {
      "cell_type": "code",
      "metadata": {
        "id": "PMfsnrL8PdKx"
      },
      "source": [
        "# Featurenamen anzeigen\n",
        "\n",
        "diabetes.feature_names"
      ],
      "execution_count": null,
      "outputs": []
    },
    {
      "cell_type": "code",
      "metadata": {
        "id": "6kPnZJooPdKz"
      },
      "source": [
        "# Daten anzeigen\n",
        "\n",
        "diabetes.data"
      ],
      "execution_count": null,
      "outputs": []
    },
    {
      "cell_type": "code",
      "metadata": {
        "id": "059Iz5SnPdK1"
      },
      "source": [
        "# Zielvariablen anzeigen\n",
        "\n",
        "diabetes.target"
      ],
      "execution_count": null,
      "outputs": []
    },
    {
      "cell_type": "code",
      "metadata": {
        "id": "mv70IxWjijhk"
      },
      "source": [
        "# Quantität analysieren\n",
        "\n",
        "print(diabetes.data.shape)\n",
        "print(diabetes.target.shape)"
      ],
      "execution_count": null,
      "outputs": []
    },
    {
      "cell_type": "code",
      "metadata": {
        "id": "LcOisxOHPdK3"
      },
      "source": [
        "# Lokales \"abspeichern\"\n",
        "\n",
        "X = diabetes.data\n",
        "y = diabetes.target"
      ],
      "execution_count": null,
      "outputs": []
    },
    {
      "cell_type": "code",
      "metadata": {
        "id": "wQD2dUC-PdK6"
      },
      "source": [
        "# X anzeigen\n",
        "\n",
        "X"
      ],
      "execution_count": null,
      "outputs": []
    },
    {
      "cell_type": "code",
      "metadata": {
        "id": "iwI8vTrUPdK-"
      },
      "source": [
        "# y anzeigen\n",
        "\n",
        "y"
      ],
      "execution_count": null,
      "outputs": []
    },
    {
      "cell_type": "code",
      "metadata": {
        "id": "wmuzHm34q3tA"
      },
      "source": [
        "# Daten anzeigen\n",
        "\n",
        "plt.figure(figsize=(5,3))\n",
        "plt.plot(X[:,0],y,'b.') # Nur Spalte #1\n",
        "plt.xlabel(\"x\")\n",
        "plt.ylabel(\"y\")\n",
        "plt.show()"
      ],
      "execution_count": null,
      "outputs": []
    },
    {
      "cell_type": "code",
      "metadata": {
        "id": "etbuQkQQrJzi"
      },
      "source": [
        "#X[:,0].shape"
      ],
      "execution_count": null,
      "outputs": []
    },
    {
      "cell_type": "markdown",
      "metadata": {
        "id": "z3a50YYOPdLC"
      },
      "source": [
        "# Aufteilung der Gesamtdatenmenge in Training-/Testdaten"
      ]
    },
    {
      "cell_type": "markdown",
      "metadata": {
        "id": "yTMkLMvykEhz"
      },
      "source": [
        "#### Zufällige Teilung\n",
        "\n",
        "Ressourcen: https://scikit-learn.org/stable/modules/generated/sklearn.model_selection.train_test_split.html"
      ]
    },
    {
      "cell_type": "code",
      "metadata": {
        "id": "iNif-DN0PdLD"
      },
      "source": [
        "# Laden der Bibliothek\n",
        "\n",
        "from sklearn.model_selection import train_test_split"
      ],
      "execution_count": null,
      "outputs": []
    },
    {
      "cell_type": "code",
      "metadata": {
        "id": "Aa7Wk2_Wj7Pk"
      },
      "source": [
        "# Erstelle Trainings-/Testdatenmengen.\n",
        "\n",
        "X_train, X_test, y_train, y_test = train_test_split(X, y, test_size = 0.2) # Testdaten = 20%, Trainingsdaten = 80% der Gesamtdaten"
      ],
      "execution_count": null,
      "outputs": []
    },
    {
      "cell_type": "code",
      "metadata": {
        "id": "fPgdA-kHPdLF"
      },
      "source": [
        "# Prüfen Dimensionen (=Menge) der erzeugten Datensätze\n",
        "\n",
        "print(\"Größe der Trainingsdaten:\\t\", X_train.shape,\"\\t==>\\t\",y_train.shape)\n",
        "print(\"Größe der Testdaten:\\t\\t\", X_test.shape,\"\\t==>\\t\",y_test.shape)\n",
        "print(\"Größe aller Daten:\\t\\t\", X.shape,\"\\t==>\\t\",y.shape)"
      ],
      "execution_count": null,
      "outputs": []
    },
    {
      "cell_type": "markdown",
      "metadata": {
        "id": "JL8-Gc0alcaO"
      },
      "source": [
        "#### Repräsentative Teilung\n",
        "Ressource: https://scikit-learn.org/stable/modules/generated/sklearn.model_selection.StratifiedShuffleSplit.html\n",
        "\n",
        "\n",
        "Hinweis:\n",
        "Sollte nur verwendet werden wenn man nach \"Klassen\" trennt (also jede Klasse gleich häufig in der Trainings-/Testmenge auftauchen soll.\n",
        "Die Anwendug auf einzelne Werte wird nicht empfohlen."
      ]
    },
    {
      "cell_type": "code",
      "metadata": {
        "id": "OM8xY45nPdLP"
      },
      "source": [
        "# Laden der Bibliothek\n",
        "\n",
        "from sklearn.model_selection import StratifiedShuffleSplit"
      ],
      "execution_count": null,
      "outputs": []
    },
    {
      "cell_type": "code",
      "metadata": {
        "id": "edH8WsNKlmIz"
      },
      "source": [
        "# Erzeuge Instanz zum Aufteilen der Trainings-/Testdatenmenge\n",
        "\n",
        "splitter = StratifiedShuffleSplit(n_splits = 1, test_size = 0.2) # Erzeuge 5 Blöcke, Nutze 20% der Gesamtdaten als Testdaten"
      ],
      "execution_count": null,
      "outputs": []
    },
    {
      "cell_type": "code",
      "metadata": {
        "id": "7izclXHdzwq1"
      },
      "source": [
        "# Erzeuge zwei Klassen auf Basis der Zielvariable\n",
        "# Hier: simples Kategorisieren nach geraden/ungeraden Zahlenwerten\n",
        "\n",
        "y_class = np.array(y)\n",
        "y_class[y_class %2 != 0] = 1\n",
        "y_class[y_class %2 == 0] = 0"
      ],
      "execution_count": null,
      "outputs": []
    },
    {
      "cell_type": "code",
      "metadata": {
        "id": "2mwwKm_pnBS9"
      },
      "source": [
        "# Listen zum Speichern der IDX\n",
        "train_idx_list = []\n",
        "test_idx_list = []\n",
        "\n",
        "# Erzeuge die Kombinationen\n",
        "for train_index, test_index in splitter.split(X, y_class):\n",
        "    train_idx_list.append(train_index)\n",
        "    test_idx_list.append(test_index)\n",
        "\n",
        "for i in range(len(train_idx_list)):\n",
        "    print(\"Kombination %d / #Training = %d / #Test = %d\" % (i, len(train_idx_list[i]), len(test_idx_list[i])))\n",
        "    X_train_s = X[train_idx_list[i]]\n",
        "    y_train_s = y[train_idx_list[i]]\n",
        "    X_test_s = X[test_idx_list[i]]\n",
        "    y_test_s = y[test_idx_list[i]]\n",
        "\n",
        "#print(train_idx_list)\n",
        "#print(test_idx_list)"
      ],
      "execution_count": null,
      "outputs": []
    },
    {
      "cell_type": "markdown",
      "metadata": {
        "id": "6IwdFzWn7shQ"
      },
      "source": [
        "# Anwendung"
      ]
    },
    {
      "cell_type": "code",
      "metadata": {
        "id": "ttycdw_c5JdV"
      },
      "source": [
        "# Lade Modell\n",
        "\n",
        "from sklearn.linear_model import LinearRegression\n",
        "\n",
        "# Instanzen erzeugen\n",
        "lin_reg1 = LinearRegression()\n",
        "lin_reg2 = LinearRegression()\n",
        "\n",
        "# Training\n",
        "lin_reg1.fit(X_train, y_train)\n",
        "lin_reg2.fit(X_train_s, y_train_s)\n",
        "\n",
        "# Validierung mit Testdaten\n",
        "y_pred   = lin_reg1.predict(X_test)\n",
        "y_pred_s = lin_reg2.predict(X_test_s)"
      ],
      "execution_count": null,
      "outputs": []
    },
    {
      "cell_type": "code",
      "metadata": {
        "id": "kBPhtWI5C2c7"
      },
      "source": [
        "# Werte anzeigen\n",
        "\n",
        "print(y_test)\n",
        "print(y_pred)\n",
        "print(y_pred_s)"
      ],
      "execution_count": null,
      "outputs": []
    },
    {
      "cell_type": "code",
      "metadata": {
        "id": "cmK5r_zzD3Vg"
      },
      "source": [
        "# Parameter anzeigen\n",
        "\n",
        "print(lin_reg1.intercept_)\n",
        "print(lin_reg1.coef_)"
      ],
      "execution_count": null,
      "outputs": []
    },
    {
      "cell_type": "code",
      "metadata": {
        "id": "R2Ir0bE3ECMw"
      },
      "source": [
        "# Parameter anzeigen\n",
        "\n",
        "print(lin_reg2.intercept_)\n",
        "print(lin_reg2.coef_)"
      ],
      "execution_count": null,
      "outputs": []
    },
    {
      "cell_type": "code",
      "metadata": {
        "id": "8qbbMncS8fDj"
      },
      "source": [
        "# Neu: Berechne mittleren Fehler\n",
        "\n",
        "from sklearn.metrics import mean_squared_error\n",
        "\n",
        "print(mean_squared_error(y_test, y_pred))\n",
        "print(mean_squared_error(y_test_s, y_pred_s))"
      ],
      "execution_count": null,
      "outputs": []
    },
    {
      "cell_type": "markdown",
      "metadata": {
        "id": "3TIFn4s8-ErZ"
      },
      "source": [
        "# Kreuzvalidierung"
      ]
    },
    {
      "cell_type": "code",
      "metadata": {
        "id": "BUDhN_Uh-EDa"
      },
      "source": [
        "# Lade Bibliothek\n",
        "\n",
        "from sklearn.model_selection import cross_val_score\n",
        "\n",
        "# Erstelle neue Instanz\n",
        "lin_reg_x = LinearRegression()\n",
        "\n",
        "# Anwenden!\n",
        "scores = cross_val_score(lin_reg_x, X, y, scoring=\"neg_mean_squared_error\", cv=5)\n",
        "#print(-scores)\n",
        "\n",
        "print(\"Mittelwert: \", -scores.mean(), \" / Std: \", scores.std())"
      ],
      "execution_count": null,
      "outputs": []
    },
    {
      "cell_type": "markdown",
      "metadata": {
        "id": "qd-PFpsPFe20"
      },
      "source": [
        "# Zusatz: Daten anzeigen (mit Pandas)"
      ]
    },
    {
      "cell_type": "code",
      "metadata": {
        "id": "JuKBaoRBFdjE"
      },
      "source": [
        "# Lade Bibliothek\n",
        "\n",
        "import pandas as pd # Dokumentation: https://pandas.pydata.org/"
      ],
      "execution_count": null,
      "outputs": []
    },
    {
      "cell_type": "code",
      "metadata": {
        "id": "EkmqeSwSFjAd"
      },
      "source": [
        "# Erstelle einen Dataframe aus einem Numpy Array\n",
        "\n",
        "df = pd.DataFrame(X)"
      ],
      "execution_count": null,
      "outputs": []
    },
    {
      "cell_type": "code",
      "metadata": {
        "id": "X5GRtLs7HO9l"
      },
      "source": [
        "# Infos anzeigen\n",
        "\n",
        "df.info()"
      ],
      "execution_count": null,
      "outputs": []
    },
    {
      "cell_type": "code",
      "metadata": {
        "id": "VtkmzUP0FwKb"
      },
      "source": [
        "# Zeige die ersten Einträge\n",
        "\n",
        "df.head()"
      ],
      "execution_count": null,
      "outputs": []
    },
    {
      "cell_type": "code",
      "metadata": {
        "id": "zbWm2ajUGOcq"
      },
      "source": [
        "# Zeige die letzten Einträge\n",
        "\n",
        "df.tail()"
      ],
      "execution_count": null,
      "outputs": []
    },
    {
      "cell_type": "markdown",
      "metadata": {
        "id": "b3PpmD2nMxjk"
      },
      "source": [
        "# Zusatz: Datenlücken füllen"
      ]
    },
    {
      "cell_type": "code",
      "metadata": {
        "id": "j-5YKGosGZ5r"
      },
      "source": [
        "# Zufällig einige Werte entfernen\n",
        "\n",
        "df.loc[3].at[0] = np.NaN\n",
        "df.loc[0].at[1] = np.NaN\n",
        "df.loc[7].at[2] = np.NaN"
      ],
      "execution_count": null,
      "outputs": []
    },
    {
      "cell_type": "code",
      "metadata": {
        "id": "qdF4snPlHNJr"
      },
      "source": [
        "# Anzeigen\n",
        "\n",
        "df.head(10)"
      ],
      "execution_count": null,
      "outputs": []
    },
    {
      "cell_type": "code",
      "metadata": {
        "id": "LTwpW3qPJMUL"
      },
      "source": [
        "# Lade Bibliothek\n",
        "\n",
        "from sklearn.impute import SimpleImputer # https://scikit-learn.org/stable/modules/generated/sklearn.impute.SimpleImputer.htm"
      ],
      "execution_count": null,
      "outputs": []
    },
    {
      "cell_type": "code",
      "metadata": {
        "id": "yutbJ6SEM9fb"
      },
      "source": [
        "# Erstelle Instanz\n",
        "\n",
        "imputer = SimpleImputer(missing_values=np.NaN, strategy='mean')"
      ],
      "execution_count": null,
      "outputs": []
    },
    {
      "cell_type": "code",
      "metadata": {
        "id": "Gu9zWxtJNAqJ"
      },
      "source": [
        "# Lerne die Instanz an\n",
        "\n",
        "imputer.fit(df)"
      ],
      "execution_count": null,
      "outputs": []
    },
    {
      "cell_type": "code",
      "metadata": {
        "id": "rqwF8RDZNWQ6"
      },
      "source": [
        "# Zeige ein paar Statistiken\n",
        "\n",
        "imputer.statistics_"
      ],
      "execution_count": null,
      "outputs": []
    },
    {
      "cell_type": "code",
      "metadata": {
        "id": "jNdyJ9e7NbXq"
      },
      "source": [
        "# Fülle die Lücken auf\n",
        "\n",
        "df_i = imputer.transform(df) # Ausgabe ist Numpy Array"
      ],
      "execution_count": null,
      "outputs": []
    },
    {
      "cell_type": "code",
      "metadata": {
        "id": "wyKfStS3NrcK"
      },
      "source": [
        "# Konvertiere Numpy Array\n",
        "\n",
        "df_i = pd.DataFrame(df_i)"
      ],
      "execution_count": null,
      "outputs": []
    },
    {
      "cell_type": "code",
      "metadata": {
        "id": "VLcxySt9NuhI"
      },
      "source": [
        "# Zeige die ersten 10 Einträge an\n",
        "\n",
        "df_i.head(10)"
      ],
      "execution_count": null,
      "outputs": []
    }
  ]
}