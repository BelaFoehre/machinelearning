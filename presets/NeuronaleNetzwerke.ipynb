{
  "nbformat": 4,
  "nbformat_minor": 0,
  "metadata": {
    "colab": {
      "name": "Übung6_NeuronaleNetzwerke.ipynb",
      "provenance": [],
      "collapsed_sections": [],
      "toc_visible": true
    },
    "kernelspec": {
      "name": "python3",
      "display_name": "Python 3"
    }
  },
  "cells": [
    {
      "cell_type": "markdown",
      "metadata": {
        "id": "VggRNKxkc2VC"
      },
      "source": [
        "## Grundlagen Maschineller Lernverfahren | ML_INF19A | 2021\n",
        "**Datum: 26.10.2021**"
      ]
    },
    {
      "cell_type": "markdown",
      "metadata": {
        "id": "T2TDBo53c4ty"
      },
      "source": [
        "# Neuronale Netzwerke\n",
        "Ressourcen: https://www.tensorflow.org/api_docs/python/tf"
      ]
    },
    {
      "cell_type": "markdown",
      "metadata": {
        "id": "vltfaXzsdBmK"
      },
      "source": [
        "## Lade Daten"
      ]
    },
    {
      "cell_type": "code",
      "metadata": {
        "id": "_KKWwskYBLz6"
      },
      "source": [
        "# Lade Bibliothek\n",
        "from sklearn.datasets import load_iris"
      ],
      "execution_count": null,
      "outputs": []
    },
    {
      "cell_type": "code",
      "metadata": {
        "id": "eZD9JTdQBRp8"
      },
      "source": [
        "# Lade Datensatz\n",
        "data = load_iris()"
      ],
      "execution_count": null,
      "outputs": []
    },
    {
      "cell_type": "code",
      "metadata": {
        "id": "KSinEpS9BS7J"
      },
      "source": [
        "# Daten in Eingabe (X) und Layer (y) sortieren und \"lokal\" abspeichern\n",
        "X = data.data\n",
        "y = data.target"
      ],
      "execution_count": null,
      "outputs": []
    },
    {
      "cell_type": "code",
      "metadata": {
        "id": "XPepRkqYBYEX"
      },
      "source": [
        "# Blick in die Datenwerfen\n",
        "print(X)"
      ],
      "execution_count": null,
      "outputs": []
    },
    {
      "cell_type": "code",
      "metadata": {
        "id": "yqFwL7GYBZEp"
      },
      "source": [
        "# Blick in die Labels werfen\n",
        "print(y)"
      ],
      "execution_count": null,
      "outputs": []
    },
    {
      "cell_type": "code",
      "metadata": {
        "id": "qpHXTVtJBWb5"
      },
      "source": [
        "# Dimensionen prüfen\n",
        "print(X.shape)\n",
        "print(y.shape)"
      ],
      "execution_count": null,
      "outputs": []
    },
    {
      "cell_type": "markdown",
      "metadata": {
        "id": "fC5aY21JdcVe"
      },
      "source": [
        "## Daten vorverarbeiten"
      ]
    },
    {
      "cell_type": "code",
      "metadata": {
        "id": "RF-LgVpABnpJ"
      },
      "source": [
        "# Lade Bibliothek\n",
        "from sklearn.preprocessing import normalize # Normalisiere die Daten"
      ],
      "execution_count": null,
      "outputs": []
    },
    {
      "cell_type": "code",
      "metadata": {
        "id": "luW77PiOCAEY"
      },
      "source": [
        "# Führe Vorverarbeitung durch\n",
        "X_norm = normalize(X) # NUR Eingabedaten, nicht die Label!"
      ],
      "execution_count": null,
      "outputs": []
    },
    {
      "cell_type": "code",
      "metadata": {
        "id": "JV8fbkBmCDM5"
      },
      "source": [
        "# Zeige die transformierten Daten an\n",
        "X_norm"
      ],
      "execution_count": null,
      "outputs": []
    },
    {
      "cell_type": "markdown",
      "metadata": {
        "id": "9gpgqs8ndsJ6"
      },
      "source": [
        "## Trenne in Daten für Training und Test"
      ]
    },
    {
      "cell_type": "code",
      "metadata": {
        "id": "6C4DNRgnCD75"
      },
      "source": [
        "# Lade Bibliothek\n",
        "from sklearn.model_selection import train_test_split"
      ],
      "execution_count": null,
      "outputs": []
    },
    {
      "cell_type": "code",
      "metadata": {
        "id": "uosDmDLjCM2o"
      },
      "source": [
        "# Führe Trennung durch\n",
        "X_train, X_test, y_train, y_test = train_test_split(X_norm,y,test_size=0.2)"
      ],
      "execution_count": null,
      "outputs": []
    },
    {
      "cell_type": "code",
      "metadata": {
        "id": "0aslGCdECVMI"
      },
      "source": [
        "# Prüfe Dimensionen\n",
        "print(X_train.shape)\n",
        "print(y_train.shape)\n",
        "print(X_test.shape)\n",
        "print(y_test.shape)"
      ],
      "execution_count": null,
      "outputs": []
    },
    {
      "cell_type": "markdown",
      "metadata": {
        "id": "c9_qSVhuaISD"
      },
      "source": [
        "## Neuronales Netz erstellen"
      ]
    },
    {
      "cell_type": "code",
      "metadata": {
        "id": "0sAOk8W2CWIJ"
      },
      "source": [
        "# Lade Bibliotheken\n",
        "import tensorflow as tf\n",
        "\n",
        "from tensorflow.keras.models import Sequential # Modelinstanz\n",
        "from tensorflow.keras.layers import Dense # Einzelne Layer\n",
        "from tensorflow.keras import Input # Spezieller Eingabelayer\n",
        "\n",
        "import numpy as np"
      ],
      "execution_count": null,
      "outputs": []
    },
    {
      "cell_type": "code",
      "metadata": {
        "id": "placdZmJeE7C"
      },
      "source": [
        "# Details über Eingabeformat\n",
        "X_norm.shape #(150,4) -> 150 Zeilen, 4 Features"
      ],
      "execution_count": null,
      "outputs": []
    },
    {
      "cell_type": "code",
      "metadata": {
        "id": "ndaZZ-fHerPD"
      },
      "source": [
        "# Prüfe wieviele Label/Klassen in der Aufgabe vorkommen \n",
        "num_classes = len(np.unique(y_train)) # -> bestimmt die Anzahl der Knoten im Ausgabelayer\n",
        "\n",
        "# Prüfe ob für Training und Test gleich viele Klassen vorhanden sind\n",
        "assert len(np.unique(y_train)) == len(np.unique(y_test))"
      ],
      "execution_count": null,
      "outputs": []
    },
    {
      "cell_type": "code",
      "metadata": {
        "id": "3zg2COMUaef7"
      },
      "source": [
        "## Setup Hyperparameter des Neuronalen Netzwerkes\n",
        "\n",
        "# Anzahl der Knoten im Eingabelayer\n",
        "input_size = X_norm.shape[1:] # Nur Anzahl der Features relevant (150 stellt Batch-Dimension dar)\n",
        "\n",
        "# Anzahl der Knoten im Ausgabelayer\n",
        "output_size = num_classes # Speichere Anzahl der verschiedenen Klassen\n",
        "\n",
        "# Größe des Batches beim Training\n",
        "batch_size = 10\n",
        "\n",
        "# Anzahl der Epcohen beim Training\n",
        "epochs = 20"
      ],
      "execution_count": null,
      "outputs": []
    },
    {
      "cell_type": "code",
      "metadata": {
        "id": "wwE1zPyZC2vt"
      },
      "source": [
        "# Erstelle eine Instanz des Sequential Modells\n",
        "model = Sequential()"
      ],
      "execution_count": null,
      "outputs": []
    },
    {
      "cell_type": "code",
      "metadata": {
        "id": "eyWtcN_lDCVO"
      },
      "source": [
        "#model"
      ],
      "execution_count": null,
      "outputs": []
    },
    {
      "cell_type": "code",
      "metadata": {
        "id": "t280EZ68DSyW"
      },
      "source": [
        "# Definition des einfachen Modells (Struktur: Input -> Hidden -> Output)\n",
        "\n",
        "# Eingabe\n",
        "model.add(Input(shape=X_norm.shape[1:], name=\"Eingabe\")) # Ohne Batch Dimension, nur \"X-Achsen\" Dimension\n",
        "\n",
        "# Hidden Layer (3x)\n",
        "model.add(Dense(1000, activation=\"relu\", name=\"Hidden1\"))\n",
        "model.add(Dense(500, activation=\"relu\", name=\"Hidden2\"))\n",
        "model.add(Dense(300, activation=\"relu\", name=\"Hidden3\"))\n",
        "\n",
        "# Ausgabe\n",
        "model.add(Dense(3, activation=\"softmax\", name=\"Ausgabe\")) # Hinweis: Bei mehreren Klassen nimmt man in der Regel die Softmax Aktivierungsfunktion (weitere Infos: vgl. Literatur)"
      ],
      "execution_count": null,
      "outputs": []
    },
    {
      "cell_type": "code",
      "metadata": {
        "id": "ZEpYfSsgE3N8"
      },
      "source": [
        "# \"Baue\" das Modell zusammen\n",
        "model.compile(loss='categorical_crossentropy', metrics='accuracy') # Angeben von diversen Hyperparametern (vgl. Doku für mehr Informationen)"
      ],
      "execution_count": null,
      "outputs": []
    },
    {
      "cell_type": "markdown",
      "metadata": {
        "id": "2S8ZCpvfaDx6"
      },
      "source": [
        "## Modell Zusammenfassung"
      ]
    },
    {
      "cell_type": "code",
      "metadata": {
        "id": "ZZb_ci-xEpyo"
      },
      "source": [
        "# Modell anzeigen\n",
        "model.summary() "
      ],
      "execution_count": null,
      "outputs": []
    },
    {
      "cell_type": "code",
      "metadata": {
        "id": "AOGkWWd3pDnK"
      },
      "source": [
        "## Analyse der Parameter\n",
        "\n",
        "#Anzahl Knoten pro Layer:\n",
        "#------------------------\n",
        "#Input   = 4    Knoten\n",
        "#Hidden1 = 1000 Knoten\n",
        "#Hidden2 = 500  Knoten\n",
        "#Hidden3 = 300  Knoten\n",
        "#Ausgabe = 1000 Knoten\n",
        "\n",
        "#Allgemein gilt:\n",
        "\n",
        "# Knoten(L) * #Knoten(L+1) + #Knoten(L+1)\n",
        "# |----------------------|   |----------|\n",
        "#        Parameter               Bias\n",
        "\n",
        "#Berechnung Input->Hidden1:\n",
        "#4 * 1000 + 1000 = 5000\n",
        "\n",
        "#Berechnung Hidden1->Hidden2:\n",
        "#1000 * 500 + 500 = 500500\n",
        "\n",
        "#Berechnung Hidden2->Hidden3:\n",
        "#500 * 300 + 300 = 150300\n",
        "\n",
        "#Berechnung Hidden3->Ausgabe:\n",
        "#300 * 3 + 3 = 903"
      ],
      "execution_count": null,
      "outputs": []
    },
    {
      "cell_type": "markdown",
      "metadata": {
        "id": "jW4ufzdtgHST"
      },
      "source": [
        "Hinweis:\n",
        "\n",
        "* Das Modell hat 3 Knoten in der Ausgabeschicht\n",
        "* Die Labels sind aber nur als Zahl (0,1,2) verfügbar.\n",
        "\n",
        "Die Labels müssen nun also noch in eine für das Neuronale Netzwerk passende Form gebracht werden.\n",
        "\n"
      ]
    },
    {
      "cell_type": "markdown",
      "metadata": {
        "id": "sBOKm4o9RINi"
      },
      "source": [
        "## Vorbereiten der Labels (OneHot Encoding)"
      ]
    },
    {
      "cell_type": "code",
      "metadata": {
        "id": "P9QlAA6CRYmw"
      },
      "source": [
        "# Prüfe ursprüngliche Label\n",
        "print(y_train)\n",
        "print(y_train.shape) # 120x1 Vektor"
      ],
      "execution_count": null,
      "outputs": []
    },
    {
      "cell_type": "markdown",
      "metadata": {
        "id": "e4wyNnAbhDBy"
      },
      "source": [
        "Wir benötigen aber eine Repräsentation wie folgt:\n",
        "\n",
        "> 0 -> [1 0 0]\n",
        "\n",
        "> 1 -> [0 1 0]\n",
        "\n",
        "> 2 -> [0 0 1]\n",
        "\n",
        "\n",
        "Lösung: OneHot Vektor"
      ]
    },
    {
      "cell_type": "code",
      "metadata": {
        "id": "pbNxXL4nRN41"
      },
      "source": [
        "# Lade Bibliothek\n",
        "from tensorflow.keras.utils import to_categorical # OneHot-Encoding (vgl. Doku: https://www.tensorflow.org/api_docs/python/tf/keras/utils/to_categorical)"
      ],
      "execution_count": null,
      "outputs": []
    },
    {
      "cell_type": "code",
      "metadata": {
        "id": "cJqxsb8SRIuo"
      },
      "source": [
        "# Umwandlung in One-Hot Vektor (vgl. Dokumentation \"to_categorical\")\n",
        "y_train_1hot = to_categorical(y_train, num_classes)\n",
        "y_test_1hot = to_categorical(y_test, num_classes)"
      ],
      "execution_count": null,
      "outputs": []
    },
    {
      "cell_type": "code",
      "metadata": {
        "id": "weDXeJGVRfjJ"
      },
      "source": [
        "# Prüfen des Ergebnisses\n",
        "print(y_train[:10])\n",
        "print(y_train_1hot[:10])"
      ],
      "execution_count": null,
      "outputs": []
    },
    {
      "cell_type": "markdown",
      "metadata": {
        "id": "p11Su-WEZ9sq"
      },
      "source": [
        "## Modell trainieren"
      ]
    },
    {
      "cell_type": "code",
      "metadata": {
        "id": "iUGJyyMrErjY"
      },
      "source": [
        "# Training über die bekannte Funktion \"fit\" unter Angabe von Hyperparametern (vgl. Dokumentation: https://www.tensorflow.org/api_docs/python/tf/keras/Sequential#fit)\n",
        "model.fit(X_train, y_train_1hot, batch_size=batch_size, epochs=epochs, verbose=1)"
      ],
      "execution_count": null,
      "outputs": []
    },
    {
      "cell_type": "markdown",
      "metadata": {
        "id": "cFZ7_pvrZwkm"
      },
      "source": [
        "## Modell verifizieren"
      ]
    },
    {
      "cell_type": "code",
      "metadata": {
        "id": "qFtmD-DwZx_B"
      },
      "source": [
        "# Evaluiere das Modell auf Basis der Validierungsdatenmenge\n",
        "model.evaluate(X_test, y_test_1hot)"
      ],
      "execution_count": null,
      "outputs": []
    },
    {
      "cell_type": "markdown",
      "metadata": {
        "id": "LdJJTEIpb1xb"
      },
      "source": [
        "## Alternative Modelldefinition"
      ]
    },
    {
      "cell_type": "code",
      "metadata": {
        "id": "1coV-B3Wb3R2"
      },
      "source": [
        "# Das gleiche Modell, nur anders erstellt.\n",
        "# Hinweis: Diese Variante ist viel flexibler zum Erstellen von Modellen sobald die Netzwerke komplizierter werden.\n",
        "\n",
        "# Definiere die \"Architektur\" (nur Layerverbindungen untereinander, kein Modell!)\n",
        "inputs = Input(shape=input_size, name=\"Eingabe\")\n",
        "hidden_1 = Dense(1000,  activation='relu', name=\"Hidden1\")(inputs)\n",
        "hidden_2 = Dense(500,  activation='relu', name=\"Hidden2\")(hidden_1)\n",
        "hidden_3 = Dense(300,  activation='relu', name=\"Hidden3\")(hidden_2)\n",
        "outputs = Dense(3, activation='softmax', name=\"Ausgabe\")(hidden_3)\n",
        "\n",
        "# Definition des finalen Modells\n",
        "model_2 = tf.keras.Model(inputs=inputs, outputs=outputs)\n",
        "\n",
        "# \"Baue\" Modell\n",
        "model_2.compile(loss='categorical_crossentropy', metrics=['accuracy'], optimizer='sgd') # Explizite Angabe des Optimierers\n",
        "\n",
        "# Zeige Modellstruktur an\n",
        "print(model_2.summary())"
      ],
      "execution_count": null,
      "outputs": []
    },
    {
      "cell_type": "code",
      "metadata": {
        "id": "MRz_W5zyim7W"
      },
      "source": [
        "# Training über die bekannte Funktion \"fit\" unter Angabe von Hyperparametern (vgl. Dokumentation)\n",
        "model_2.fit(X_train, y_train_1hot, batch_size=batch_size, epochs=epochs, verbose=1)"
      ],
      "execution_count": null,
      "outputs": []
    },
    {
      "cell_type": "code",
      "metadata": {
        "id": "8RclEmJ_ioZU"
      },
      "source": [
        "# Evaluiere das Modell auf Basis der Validierungsdatenmenge\n",
        "model_2.evaluate(X_test, y_test_1hot)"
      ],
      "execution_count": null,
      "outputs": []
    },
    {
      "cell_type": "markdown",
      "metadata": {
        "id": "NytpIARut0DY"
      },
      "source": [
        "## Model speichern und laden"
      ]
    },
    {
      "cell_type": "code",
      "metadata": {
        "id": "uzNunZ5Atzol"
      },
      "source": [
        "# Pfad zum Speichern angeben\n",
        "path = \"mein_modell\"\n",
        "\n",
        "# Speichere das Modell in den genannten Pfad\n",
        "model.save(path)"
      ],
      "execution_count": null,
      "outputs": []
    },
    {
      "cell_type": "code",
      "metadata": {
        "id": "RCW9N7IyuMh6"
      },
      "source": [
        "# Gespeichertes Model laden\n",
        "model_restored = tf.keras.models.load_model(path)"
      ],
      "execution_count": null,
      "outputs": []
    },
    {
      "cell_type": "code",
      "metadata": {
        "id": "TTxOB_qrulI3"
      },
      "source": [
        "# Vergleichen der Modelle\n",
        "model_restored.summary()\n",
        "model.summary()"
      ],
      "execution_count": null,
      "outputs": []
    }
  ]
}