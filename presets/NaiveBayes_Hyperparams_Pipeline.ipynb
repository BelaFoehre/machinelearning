{
  "nbformat": 4,
  "nbformat_minor": 0,
  "metadata": {
    "kernelspec": {
      "display_name": "Python 3",
      "language": "python",
      "name": "python3"
    },
    "language_info": {
      "codemirror_mode": {
        "name": "ipython",
        "version": 3
      },
      "file_extension": ".py",
      "mimetype": "text/x-python",
      "name": "python",
      "nbconvert_exporter": "python",
      "pygments_lexer": "ipython3",
      "version": "3.8.2"
    },
    "colab": {
      "name": "Übung4_NaiveBayes.ipynb",
      "provenance": [],
      "collapsed_sections": []
    }
  },
  "cells": [
    {
      "cell_type": "markdown",
      "metadata": {
        "id": "DQtUG2ZdG6xL"
      },
      "source": [
        "## Grundlagen Maschineller Lernverfahren | ML_INF19A | 2021\n",
        "**Datum: 14.10.2021**"
      ]
    },
    {
      "cell_type": "markdown",
      "metadata": {
        "id": "ob9OrMd9hmmg"
      },
      "source": [
        "# Naive Bayes (Gaussian)"
      ]
    },
    {
      "cell_type": "code",
      "metadata": {
        "id": "f2X4rebShmmh"
      },
      "source": [
        "# Lade Bibliotheken\n",
        "\n",
        "from sklearn.datasets import load_iris\n",
        "from sklearn.model_selection import train_test_split\n"
      ],
      "execution_count": null,
      "outputs": []
    },
    {
      "cell_type": "markdown",
      "metadata": {
        "id": "_JS7j7Yrhmmk"
      },
      "source": [
        "## Daten erzeugen"
      ]
    },
    {
      "cell_type": "code",
      "metadata": {
        "id": "r7Ls2DJxkBZk"
      },
      "source": [
        "# Lade Datensatz (IRIS)\n",
        "\n",
        "iris = load_iris()"
      ],
      "execution_count": null,
      "outputs": []
    },
    {
      "cell_type": "code",
      "metadata": {
        "id": "cS4BSv5ukMBL"
      },
      "source": [
        "print(iris.DESCR)\n",
        "\n",
        "# Sepal = Kelchblatt\n",
        "# Petal = Blütenblatt"
      ],
      "execution_count": null,
      "outputs": []
    },
    {
      "cell_type": "code",
      "metadata": {
        "id": "bZmtoDzWlQnc"
      },
      "source": [
        "# Daten anzeigen lassen\n",
        "\n",
        "iris.data"
      ],
      "execution_count": null,
      "outputs": []
    },
    {
      "cell_type": "code",
      "metadata": {
        "id": "Es44U7Eghmml"
      },
      "source": [
        "# Separiere Werte in einzelne Variablen\n",
        "\n",
        "X = iris.data[:,2:4] # Nur petal length / width -> Blütenblatt\n",
        "y = iris.target"
      ],
      "execution_count": null,
      "outputs": []
    },
    {
      "cell_type": "code",
      "metadata": {
        "id": "BQCMV7BUhmmn"
      },
      "source": [
        "# Trainingsdaten\n",
        "X"
      ],
      "execution_count": null,
      "outputs": []
    },
    {
      "cell_type": "code",
      "metadata": {
        "id": "RUn6m1achmmp"
      },
      "source": [
        "# Trainingsdaten\n",
        "\n",
        "y"
      ],
      "execution_count": null,
      "outputs": []
    },
    {
      "cell_type": "markdown",
      "metadata": {
        "id": "vTyqOxY8hmmr"
      },
      "source": [
        "## Datensätze aufsplitten "
      ]
    },
    {
      "cell_type": "code",
      "metadata": {
        "id": "LiVxsHNzhmmr"
      },
      "source": [
        "# Training + Validierung\n",
        "\n",
        "X_train, X_test, y_train, y_test = train_test_split(X, y, test_size = 0.2, random_state = 0)"
      ],
      "execution_count": null,
      "outputs": []
    },
    {
      "cell_type": "markdown",
      "metadata": {
        "id": "t8rfG44phmmv"
      },
      "source": [
        "## NaiveBayes Modell"
      ]
    },
    {
      "cell_type": "code",
      "metadata": {
        "id": "P0YhJOetQaY6"
      },
      "source": [
        "# Lade Bibliothek\n",
        "\n",
        "from sklearn.naive_bayes import GaussianNB"
      ],
      "execution_count": null,
      "outputs": []
    },
    {
      "cell_type": "code",
      "metadata": {
        "id": "1qhGmje0hmmv"
      },
      "source": [
        "# Erstelle NaiveBayes Instanz\n",
        "\n",
        "nb_clf = GaussianNB()"
      ],
      "execution_count": null,
      "outputs": []
    },
    {
      "cell_type": "code",
      "metadata": {
        "id": "k_tfUjqvhmmy"
      },
      "source": [
        "# Trainiere\n",
        "nb_clf.fit(X_train, y_train)\n",
        "\n",
        "# Mache Vorhersage\n",
        "y_prediction = nb_clf.predict(X_test)"
      ],
      "execution_count": null,
      "outputs": []
    },
    {
      "cell_type": "code",
      "metadata": {
        "id": "o_ILP2AXhmm0"
      },
      "source": [
        "# Analysiere\n",
        "\n",
        "print(\"Anzahl der falsch zugeordneten Klassen: %d (bei %d Datensätze)\" % ((y_test != y_prediction).sum(), X_test.shape[0]))"
      ],
      "execution_count": null,
      "outputs": []
    },
    {
      "cell_type": "code",
      "metadata": {
        "id": "W_VPLfTohmm1"
      },
      "source": [
        "# Berechne Accuracy Score\n",
        "\n",
        "from sklearn.metrics import accuracy_score\n",
        "my_accuracy_score = accuracy_score(y_test, y_prediction)\n",
        "print(\"Accuracy: %0.2f  [%s]\" % (my_accuracy_score, nb_clf))"
      ],
      "execution_count": null,
      "outputs": []
    },
    {
      "cell_type": "markdown",
      "metadata": {
        "id": "HwQsJP-JQSjD"
      },
      "source": [
        "# Vergleich: SGDClassifier"
      ]
    },
    {
      "cell_type": "code",
      "metadata": {
        "id": "c89Kya92QSyR"
      },
      "source": [
        "# Lade Bibliothek\n",
        "from sklearn.linear_model import SGDClassifier\n",
        "\n",
        "# Erstelle Instanz\n",
        "sgd_class = SGDClassifier()\n",
        "\n",
        "# Training\n",
        "sgd_class.fit(X_train, y_train)\n",
        "\n",
        "# Vorhersage\n",
        "y_prediction_sgd = sgd_class.predict(X_test)\n",
        "\n",
        "# Analysiere\n",
        "print(\"Anzahl der falsch zugeordneten Klassen: %d (bei %d Datensätze)\" % ((y_test != y_prediction_sgd).sum(), X_test.shape[0]))\n",
        "\n",
        "# Berechne Accuracy Score\n",
        "my_accuracy_score_sgd = accuracy_score(y_test, y_prediction_sgd)\n",
        "print(\"Accuracy: %0.2f  [%s]\" % (my_accuracy_score_sgd, sgd_class))\n",
        "\n",
        "\n",
        "# Hinweis: Die Daten wurden nicht skaliert!"
      ],
      "execution_count": null,
      "outputs": []
    },
    {
      "cell_type": "markdown",
      "metadata": {
        "id": "atIp8UKkhmm3"
      },
      "source": [
        "# Zusatz: Hyperparametersuche\n",
        "\n",
        "Hier am Beispiel der Linearen Regression\n",
        "\n",
        "Ressource: https://scikit-learn.org/stable/modules/classes.html#module-sklearn.model_selection"
      ]
    },
    {
      "cell_type": "code",
      "metadata": {
        "id": "gh-0pza7noLb"
      },
      "source": [
        "# Lade notwendige Bibliotheken\n",
        "\n",
        "import numpy as np\n",
        "import matplotlib.pyplot as plt"
      ],
      "execution_count": null,
      "outputs": []
    },
    {
      "cell_type": "code",
      "metadata": {
        "id": "WfjdDppRnlsd"
      },
      "source": [
        "# Pseudo Zufallszahlen\n",
        "\n",
        "np.random.seed(2020)"
      ],
      "execution_count": null,
      "outputs": []
    },
    {
      "cell_type": "code",
      "metadata": {
        "id": "MydXjOPMmbUA"
      },
      "source": [
        "# Daten erstellen (vgl. Übung Optimierung)\n",
        "\n",
        "X = 2*np.random.rand(100,1)\n",
        "y = 4+3*X + np.random.rand(100,1)\n",
        "\n",
        "# Erstelle zwei x-Werte zum Testen\n",
        "X_unknown = np.array([[0],[2]])"
      ],
      "execution_count": null,
      "outputs": []
    },
    {
      "cell_type": "code",
      "metadata": {
        "id": "wejPEZamuSgu"
      },
      "source": [
        "# Lade SGD Lin Reg Modell\n",
        "\n",
        "from sklearn.linear_model import SGDRegressor\n",
        "\n",
        "sgd_reg = SGDRegressor() # Standardwerte! -> Verweis auf Dokumentation\n"
      ],
      "execution_count": null,
      "outputs": []
    },
    {
      "cell_type": "code",
      "metadata": {
        "id": "ffXuENI0oL3E"
      },
      "source": [
        "# Erstelle Parametergrid -> Prüfe welche Parameter der Optimierer hat\n",
        "# https://scikit-learn.org/stable/modules/generated/sklearn.linear_model.SGDRegressor.html\n",
        "\n",
        "\n",
        "# Hinweis: Größe des Suchraums beeinflußt die benötigte Zeit für die Suche!\n",
        "parameters = {'loss':('squared_loss', 'huber'), \n",
        "              'penalty': ('l2', 'l1', 'elasticnet'),\n",
        "              'alpha': [1e-1, 1e-2, 1e-3, 1e-4, 5e-4, 1e-5],\n",
        "              'max_iter': np.arange(start = 700, stop = 1500, step = 100),\n",
        "              'learning_rate': ['constant', 'optimal', 'invscaling']}\n",
        "            "
      ],
      "execution_count": null,
      "outputs": []
    },
    {
      "cell_type": "markdown",
      "metadata": {
        "id": "JINJTxFFjdoK"
      },
      "source": [
        "#### Vollständige Suche im Parameterraum"
      ]
    },
    {
      "cell_type": "code",
      "metadata": {
        "id": "TYf7w_Nyi2Pb"
      },
      "source": [
        "# Lade Bibliothek\n",
        "from sklearn.model_selection import GridSearchCV\n",
        "\n",
        "# Erstelle Instanz (Modell + Parametergrid)\n",
        "gridsearch = GridSearchCV(sgd_reg, parameters)\n",
        "\n",
        "# Starte die Suche (analog zu \"normalem\" Training)\n",
        "gridsearch.fit(X,y.ravel())"
      ],
      "execution_count": null,
      "outputs": []
    },
    {
      "cell_type": "code",
      "metadata": {
        "id": "mUzu0Mior_wq"
      },
      "source": [
        "# Prüfe die besten Parameter\n",
        "gridsearch.best_params_"
      ],
      "execution_count": null,
      "outputs": []
    },
    {
      "cell_type": "code",
      "metadata": {
        "id": "KOOUPGigrRI0"
      },
      "source": [
        "# Das beste, vollständig konfigurierte Modell erhalten\n",
        "best_model_gs = gridsearch.best_estimator_"
      ],
      "execution_count": null,
      "outputs": []
    },
    {
      "cell_type": "code",
      "metadata": {
        "id": "LLxES2lWr3zb"
      },
      "source": [
        "# Vorhersage mit dem besten Modell machen\n",
        "best_model_gs.predict(X_unknown)"
      ],
      "execution_count": null,
      "outputs": []
    },
    {
      "cell_type": "markdown",
      "metadata": {
        "id": "4QAUd4kqipPS"
      },
      "source": [
        "# Anwendung einer Preprocessing Pipeline"
      ]
    },
    {
      "cell_type": "code",
      "metadata": {
        "id": "Ax0PvzdFirVG"
      },
      "source": [
        "# Lade Bibliotheken\n",
        "\n",
        "# Pipelines\n",
        "from sklearn.pipeline import make_pipeline # https://scikit-learn.org/stable/modules/generated/sklearn.pipeline.make_pipeline.html\n",
        "\n",
        "# Fülle fehlende Datenwerte automatisiert auf\n",
        "from sklearn.impute import SimpleImputer # https://scikit-learn.org/stable/modules/generated/sklearn.impute.SimpleImputer.html\n",
        "\n",
        "# Skaliere Daten\n",
        "from sklearn.preprocessing import MinMaxScaler # https://scikit-learn.org/stable/modules/generated/sklearn.preprocessing.MinMaxScaler.html\n",
        "\n"
      ],
      "execution_count": null,
      "outputs": []
    },
    {
      "cell_type": "code",
      "metadata": {
        "id": "c7-dlt_TjIMJ"
      },
      "source": [
        "# Erstelle eine Pipeline namens \"preprocessing_pipe\" um die Daten vorzuverarbeiten\n",
        "#     Teil 1: SimpleImputer\n",
        "#     Teil 2: MinMaxScaler\n",
        "\n",
        "preprocessing_pipe = make_pipeline(\n",
        "    SimpleImputer(missing_values=np.NaN, strategy='mean'),\n",
        "    MinMaxScaler(feature_range=(-1,1))\n",
        ")\n",
        "\n",
        "# Ein Aufruf für Ergänzung und Skalierung\n",
        "X_pp = preprocessing_pipe.fit_transform(X)"
      ],
      "execution_count": null,
      "outputs": []
    },
    {
      "cell_type": "code",
      "metadata": {
        "id": "ngRHqCWzlVJO"
      },
      "source": [
        "# X.shape"
      ],
      "execution_count": null,
      "outputs": []
    },
    {
      "cell_type": "code",
      "metadata": {
        "id": "0X5nEzoJkrXu"
      },
      "source": [
        "# Dimensionen auf Gleichheit prüfen\n",
        "assert X_pp.shape[0] == X.shape[0]\n",
        "assert X_pp.shape[1] == X.shape[1]"
      ],
      "execution_count": null,
      "outputs": []
    },
    {
      "cell_type": "code",
      "metadata": {
        "id": "F3i57Nl3lXrF"
      },
      "source": [
        "# Zeige X an\n",
        "X"
      ],
      "execution_count": null,
      "outputs": []
    },
    {
      "cell_type": "code",
      "metadata": {
        "id": "797yqcRuldXY"
      },
      "source": [
        "# Zeige X_pp (nach Preprocessing Pipeline) an\n",
        "X_pp"
      ],
      "execution_count": null,
      "outputs": []
    },
    {
      "cell_type": "code",
      "metadata": {
        "id": "JZ5Copp7lf_p"
      },
      "source": [
        "# Starte die Suche (diesmal mit den transformierten X Werten X_pp)\n",
        "gridsearch.fit(X_pp, y.ravel())"
      ],
      "execution_count": null,
      "outputs": []
    },
    {
      "cell_type": "code",
      "metadata": {
        "id": "RiLl1RqOmIq9"
      },
      "source": [
        "# Prüfe die besten Parameter\n",
        "gridsearch.best_params_"
      ],
      "execution_count": null,
      "outputs": []
    }
  ]
}