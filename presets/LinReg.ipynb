{
  "nbformat": 4,
  "nbformat_minor": 0,
  "metadata": {
    "colab": {
      "name": "Übung1_LinReg.ipynb",
      "provenance": [],
      "collapsed_sections": [],
      "toc_visible": true
    },
    "kernelspec": {
      "name": "python3",
      "display_name": "Python 3"
    }
  },
  "cells": [
    {
      "cell_type": "markdown",
      "metadata": {
        "id": "cb0xFc6r_tD7"
      },
      "source": [
        "## Grundlagen Maschineller Lernverfahren | ML_INF19A | 2021\n",
        "**Datum: 30.09.2020**\n",
        "\n",
        "Ressourcen:\n",
        "- https://scikit-learn.org/stable/modules/generated/sklearn.linear_model.LinearRegression.html"
      ]
    },
    {
      "cell_type": "markdown",
      "metadata": {
        "id": "G7gp4tvTZPk_"
      },
      "source": [
        "# Linear Regression"
      ]
    },
    {
      "cell_type": "code",
      "metadata": {
        "id": "fzoTAr5FZT7o"
      },
      "source": [
        "# Lade notwendigen Bibliotheken\n",
        "\n",
        "import numpy as np\n",
        "import matplotlib.pyplot as plt"
      ],
      "execution_count": null,
      "outputs": []
    },
    {
      "cell_type": "code",
      "metadata": {
        "id": "Bz8O-6EkZZ4p"
      },
      "source": [
        "#Setup Pseudo Zufallszahlen\n",
        "\n",
        "np.random.seed(2020)"
      ],
      "execution_count": null,
      "outputs": []
    },
    {
      "cell_type": "code",
      "metadata": {
        "id": "abgj5ZTrZjU3"
      },
      "source": [
        "# Daten erstellen\n",
        "\n",
        "X = 2*np.random.rand(100,1) # Zufallswerte für die X-Achse\n",
        "y = 4 + 3*X + np.random.rand(100,1) # Zufallswerte für die Y-Achse (folgt der Geradengleichung y = 3*X + 4)"
      ],
      "execution_count": null,
      "outputs": []
    },
    {
      "cell_type": "code",
      "metadata": {
        "id": "bxv3JeKJZtvY"
      },
      "source": [
        "# \"Format\" der erzeugten Daten anzeigen\n",
        "\n",
        "X.shape"
      ],
      "execution_count": null,
      "outputs": []
    },
    {
      "cell_type": "code",
      "metadata": {
        "id": "DI3Mr_DnZxrJ"
      },
      "source": [
        "# Daten anzeigen\n",
        "\n",
        "plt.figure(figsize=(15,9))\n",
        "plt.plot(X,y,'b.')\n",
        "plt.xlabel(\"x\")\n",
        "plt.ylabel(\"y\")\n",
        "plt.show()"
      ],
      "execution_count": null,
      "outputs": []
    },
    {
      "cell_type": "code",
      "metadata": {
        "id": "IW5283gCaE2Z"
      },
      "source": [
        "# Erstelle zwei (neue) X-Werte zum Testen\n",
        "\n",
        "X_unknown = np.array([[0],[2]])"
      ],
      "execution_count": null,
      "outputs": []
    },
    {
      "cell_type": "code",
      "metadata": {
        "id": "Km_3F6Q_aWrn"
      },
      "source": [
        "# Lade Bibliothek\n",
        "\n",
        "from sklearn.linear_model import LinearRegression"
      ],
      "execution_count": null,
      "outputs": []
    },
    {
      "cell_type": "code",
      "metadata": {
        "id": "eg8Belrtagp3"
      },
      "source": [
        "# Erstelle LR Modell\n",
        "\n",
        "lin_reg = LinearRegression()\n",
        "lin_reg"
      ],
      "execution_count": null,
      "outputs": []
    },
    {
      "cell_type": "code",
      "metadata": {
        "id": "WIPjYU1_arGm"
      },
      "source": [
        "# Trainiere das Modell\n",
        "\n",
        "lin_reg.fit(X,y)"
      ],
      "execution_count": null,
      "outputs": []
    },
    {
      "cell_type": "code",
      "metadata": {
        "id": "oKkAsbFZax7W"
      },
      "source": [
        "# Lasse das Modell eine Vorhersage zu den neuen X-Werten treffen\n",
        "\n",
        "y_pred = lin_reg.predict(X_unknown)"
      ],
      "execution_count": null,
      "outputs": []
    },
    {
      "cell_type": "code",
      "metadata": {
        "id": "2FpUmYxra_7n"
      },
      "source": [
        "# Zeige die Vorhersage an\n",
        "\n",
        "y_pred"
      ],
      "execution_count": null,
      "outputs": []
    },
    {
      "cell_type": "code",
      "metadata": {
        "id": "sPCIOF4cbBB4"
      },
      "source": [
        "# Analyse des Modell\n",
        "\n",
        "b = lin_reg.intercept_ # w0\n",
        "w = lin_reg.coef_ # w1...n\n",
        "\n",
        "print(\"w0 = %f\\t/\\t w1 = %f\" % (b,w))"
      ],
      "execution_count": null,
      "outputs": []
    },
    {
      "cell_type": "markdown",
      "metadata": {
        "id": "HwVI3tjvAwFQ"
      },
      "source": [
        "Hier gilt also konkret:\n",
        "\n",
        "$h_w(x) = b + m*x = w0 + w_1*x_1 \\approx 4.56 + 2.9*x$\n",
        "\n",
        "(Beachte: Daten wurden gemäß der Gleichung y = 4 + 3*x erstellt -> also nicht so schlecht approximiert)\n"
      ]
    },
    {
      "cell_type": "code",
      "metadata": {
        "id": "WjNnN2HybP6n"
      },
      "source": [
        "# Erstelle X Werte für das Zeichnen einer Geraden\n",
        "Xline = np.linspace(0,2,100)\n",
        "# print(Xline)"
      ],
      "execution_count": null,
      "outputs": []
    },
    {
      "cell_type": "code",
      "metadata": {
        "id": "pseHj7VPbqc3"
      },
      "source": [
        "# Plot der Datenmenge, der Geraden und der beiden neuen X_unknown Werte\n",
        "plt.figure(figsize=(15,9))\n",
        "plt.plot(X,y,'b.')\n",
        "plt.plot(X_unknown[0,0], y_pred[0,0],'r^')\n",
        "plt.plot(X_unknown[1,0], y_pred[1,0],'r^')\n",
        "plt.xlabel(\"x\")\n",
        "plt.ylabel(\"y\")\n",
        "plt.plot(Xline, w[0]*Xline + b,'g')\n",
        "\n",
        "plt.show()"
      ],
      "execution_count": null,
      "outputs": []
    },
    {
      "cell_type": "markdown",
      "metadata": {
        "id": "Tfq-ifRscpAX"
      },
      "source": [
        "## Polynomial Regression"
      ]
    },
    {
      "cell_type": "code",
      "metadata": {
        "id": "VsYObR8-crjo"
      },
      "source": [
        "# Setup\n",
        "\n",
        "m = 100 # Anzahl Datenpunkte\n",
        "X = 6*np.random.rand(m,1)-3\n",
        "y = 0.5 * X**2 + X + 2 + np.random.randn(m,1) # Polynom vom Grad 2"
      ],
      "execution_count": null,
      "outputs": []
    },
    {
      "cell_type": "markdown",
      "metadata": {
        "id": "yK632dOjCOrY"
      },
      "source": [
        "Die Daten werden also gemäß der folgenden Gleichung erzeugt:\n",
        "\n",
        "$y= 0.5*X^2 + X + 2$"
      ]
    },
    {
      "cell_type": "code",
      "metadata": {
        "id": "4nUlf_D2c85l"
      },
      "source": [
        "# Daten darstellen\n",
        "\n",
        "plt.figure(figsize=(15,9))\n",
        "plt.plot(X,y,'b.')\n",
        "plt.xlabel(\"x\")\n",
        "plt.ylabel(\"y\")\n",
        "plt.show()"
      ],
      "execution_count": null,
      "outputs": []
    },
    {
      "cell_type": "code",
      "metadata": {
        "id": "WdKzrdszdFgG"
      },
      "source": [
        "# Versuche die dargestellten Daten mit einer \"simplen\" Geraden anzugleichen\n",
        "\n",
        "from sklearn.linear_model import LinearRegression\n",
        "\n",
        "lin_reg = LinearRegression()\n",
        "lin_reg.fit(X,y)\n",
        "\n",
        "b = lin_reg.intercept_ #w0\n",
        "w = lin_reg.coef_ #w1\n",
        "\n",
        "print(\"w0 = %f\\t/\\t w1 = %f\" % (b,w))\n",
        "\n",
        "# Sagt das Modell für die trainierten X Werte die richtigen Y Werte vorher?\n",
        "y_pred = lin_reg.predict(X)\n",
        "\n",
        "#print(y_pred)"
      ],
      "execution_count": null,
      "outputs": []
    },
    {
      "cell_type": "code",
      "metadata": {
        "id": "d64gQBnIdqfV"
      },
      "source": [
        "# X-Werte für die zu zeichnende Gerade\n",
        "Xline = np.linspace(-4,4,100)"
      ],
      "execution_count": null,
      "outputs": []
    },
    {
      "cell_type": "code",
      "metadata": {
        "id": "uKLXYZmNd0tm"
      },
      "source": [
        "# Zeichne die Datenpunkte, die Vorhersage und die abgeleitete Gerade\n",
        "\n",
        "plt.figure(figsize=(15,9))\n",
        "plt.plot(X,y,'b.')\n",
        "plt.plot(Xline, w[0]*Xline + b,'r')\n",
        "plt.plot(X,y_pred,'m-')\n",
        "\n",
        "plt.show()"
      ],
      "execution_count": null,
      "outputs": []
    },
    {
      "cell_type": "code",
      "metadata": {
        "id": "VJH663z9eCiF"
      },
      "source": [
        "# Berechnen mittleren quad. Fehler (MSE)\n",
        "\n",
        "from sklearn.metrics import mean_squared_error\n",
        "\n",
        "# Rufe Funktion mit Zielvariable und vorhergesagten Werten auf\n",
        "mean_squared_error(y,y_pred)"
      ],
      "execution_count": null,
      "outputs": []
    },
    {
      "cell_type": "code",
      "metadata": {
        "id": "t8LRlw7MeevF"
      },
      "source": [
        "# Lade Bibliothek für polynomielle Feature\n",
        "\n",
        "from sklearn.preprocessing import PolynomialFeatures"
      ],
      "execution_count": null,
      "outputs": []
    },
    {
      "cell_type": "code",
      "metadata": {
        "id": "hu2HLK3teuyH"
      },
      "source": [
        "# Wende polynomielle Features auf X Werte an\n",
        "\n",
        "poly_features = PolynomialFeatures(degree=2, include_bias=False) # Hier: Polynom vom Grad 2\n",
        "X_poly = poly_features.fit_transform(X) # Erstellt neuen Vektor mit \"angepassten\" Werten"
      ],
      "execution_count": null,
      "outputs": []
    },
    {
      "cell_type": "markdown",
      "metadata": {
        "id": "bipj0ETKDs3X"
      },
      "source": [
        "Vorher:\n",
        "\n",
        "> $w_0 + w_1*x_1$\n",
        "\n",
        "Nach Anwendung der poly. Features:\n",
        "\n",
        "> $w_0 + w_1*x_1 + w_2*x_2$ mit $x_2 = x_1^2$\n",
        "\n"
      ]
    },
    {
      "cell_type": "code",
      "metadata": {
        "id": "Gb4U0lMrfBxl"
      },
      "source": [
        "# Vergleich der X-Werte ( = Feature)\n",
        "print(X)\n",
        "print(X_poly)"
      ],
      "execution_count": null,
      "outputs": []
    },
    {
      "cell_type": "code",
      "metadata": {
        "id": "kx_NUoxTfDaU",
        "cellView": "both"
      },
      "source": [
        "# Erstelle ein neue Modell und trainiere es mit den angepassten Werten\n",
        "lin_reg_poly = LinearRegression()\n",
        "lin_reg_poly.fit(X_poly,y) # y bleibt gleich!"
      ],
      "execution_count": null,
      "outputs": []
    },
    {
      "cell_type": "code",
      "metadata": {
        "id": "155kFVjYgjnc"
      },
      "source": [
        "# Zeige gelernte Parameter\n",
        "\n",
        "b = lin_reg_poly.intercept_\n",
        "w = lin_reg_poly.coef_\n",
        "\n",
        "print(\"w0 = %f\\t/\\t w = %s\"  % (b,w[0]))"
      ],
      "execution_count": null,
      "outputs": []
    },
    {
      "cell_type": "code",
      "metadata": {
        "id": "94UBNHSYgqLG"
      },
      "source": [
        "# Prüfe Vorhersage\n",
        "\n",
        "y_pred_poly = lin_reg_poly.predict(X_poly)"
      ],
      "execution_count": null,
      "outputs": []
    },
    {
      "cell_type": "code",
      "metadata": {
        "id": "TDvoZDhMgzRE"
      },
      "source": [
        "# Zeichne\n",
        "plt.figure(figsize=(30,9))\n",
        "plt.plot(X,y,'b.')\n",
        "plt.plot(X,y_pred_poly,'r.')\n",
        "plt.show()"
      ],
      "execution_count": null,
      "outputs": []
    },
    {
      "cell_type": "code",
      "metadata": {
        "id": "BA9Oxxzwg-MU"
      },
      "source": [
        "# Berechnen mittleren quad. Fehler (MSE)\n",
        "mean_squared_error(y, y_pred_poly)"
      ],
      "execution_count": null,
      "outputs": []
    },
    {
      "cell_type": "markdown",
      "metadata": {
        "id": "XPB_svWiFJ-u"
      },
      "source": [
        "# Selbststudium\n",
        "\n",
        "Im folgenden wird noch kurz gezeigt wie man \"Pipelines\" nutzt.\n",
        "Damit lassen sich mehrere Schritte (z.B. PolynomialFeatures und die anschließende Lineare Regression) einfach zusammenfassen.\n",
        "\n",
        "Mehr Infos dazu gibt es hier: https://scikit-learn.org/stable/modules/generated/sklearn.pipeline.make_pipeline.html\n"
      ]
    },
    {
      "cell_type": "code",
      "metadata": {
        "id": "GEflKKEwhFu0"
      },
      "source": [
        "# Lade Bibliothek\n",
        "from sklearn.pipeline import make_pipeline\n",
        "\n",
        "# Erstelle eine Pipeline namens \"model\"\n",
        "#     Teil 1: PolynomialFeatures\n",
        "#     Teil 2: Lineare Regression\n",
        "model = make_pipeline(PolynomialFeatures(degree=2), LinearRegression())\n",
        "\n",
        "# Nun lassen sich die ehemals zwei Schritte einfach in einem Schritt zusammenfassen\n",
        "model.fit(X, y)\n",
        "\n",
        "# Vorhersage\n",
        "y_pred = model.predict(X)\n",
        "\n",
        "# Zeichnen\n",
        "plt.figure(figsize=(30,9))\n",
        "plt.plot(X,y,'b.')\n",
        "plt.plot(X, y_pred,'r.')\n",
        "plt.show()\n",
        "\n",
        "# MSE berechnen\n",
        "print(mean_squared_error(y, y_pred))\n",
        "\n"
      ],
      "execution_count": null,
      "outputs": []
    },
    {
      "cell_type": "markdown",
      "metadata": {
        "id": "xPQBP0NzGiH_"
      },
      "source": [
        "Vergleiche die Ergebnisse verschiedener Polynome"
      ]
    },
    {
      "cell_type": "code",
      "metadata": {
        "id": "lSeTujyKGqki"
      },
      "source": [
        "plt.figure(figsize=(30,9))\n",
        "plt_color = ['m','g','r']\n",
        "\n",
        "for d in range(3): # Achtung: startet mit 0 !\n",
        "    d += 1\n",
        "    model = make_pipeline(PolynomialFeatures(degree=d), LinearRegression())\n",
        "    model.fit(X, y)\n",
        "    y_pred = model.predict(X)\n",
        "    plt.plot(X, y_pred,'b.', color=plt_color[d-1])\n",
        "    print(\"Degree %d:\\t MSE = %2.4f\" % (d, mean_squared_error(y, y_pred)))\n",
        "\n",
        "plt.show()"
      ],
      "execution_count": null,
      "outputs": []
    }
  ]
}