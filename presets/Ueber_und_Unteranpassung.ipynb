{
  "nbformat": 4,
  "nbformat_minor": 0,
  "metadata": {
    "kernelspec": {
      "display_name": "Python 3",
      "language": "python",
      "name": "python3"
    },
    "language_info": {
      "codemirror_mode": {
        "name": "ipython",
        "version": 3
      },
      "file_extension": ".py",
      "mimetype": "text/x-python",
      "name": "python",
      "nbconvert_exporter": "python",
      "pygments_lexer": "ipython3",
      "version": "3.8.2"
    },
    "colab": {
      "name": "Übung10_Über_und_Unteranpassung.ipynb",
      "provenance": [],
      "collapsed_sections": []
    }
  },
  "cells": [
    {
      "cell_type": "markdown",
      "metadata": {
        "id": "gkXbC197G-2y"
      },
      "source": [
        "## Grundlagen Maschineller Lernverfahren | ML_INF19A | 2021\n",
        "**Datum: 11.11.2021**"
      ]
    },
    {
      "cell_type": "markdown",
      "metadata": {
        "id": "knLRwGyjhvMN"
      },
      "source": [
        "# Über- & Unteranpassung"
      ]
    },
    {
      "cell_type": "code",
      "metadata": {
        "id": "BvU0vXh1WoHs"
      },
      "source": [
        "# Lade Bibliotheken\n",
        "import matplotlib.pyplot as plt\n",
        "import numpy as np"
      ],
      "execution_count": null,
      "outputs": []
    },
    {
      "cell_type": "code",
      "metadata": {
        "id": "WHz6RAM8l1EM"
      },
      "source": [
        "from sklearn.datasets import make_moons\n",
        "\n",
        "# Erstelle Datensatz: https://scikit-learn.org/stable/modules/generated/sklearn.datasets.make_moons.html\n",
        "data = make_moons(n_samples = 500, noise = 0.15, random_state = 2021)\n",
        "\n",
        "X = data[0]\n",
        "y = data[1]"
      ],
      "execution_count": null,
      "outputs": []
    },
    {
      "cell_type": "code",
      "metadata": {
        "id": "2MtUmM5tmG1Y"
      },
      "source": [
        "# Zeichne Datenpunkte\n",
        "plt.figure(figsize=(15,9))\n",
        "plt.plot(X[:,0][y==0],X[:,1][y==0],'s')\n",
        "plt.plot(X[:,0][y==1],X[:,1][y==1],'o')"
      ],
      "execution_count": null,
      "outputs": []
    },
    {
      "cell_type": "code",
      "metadata": {
        "id": "rg4T_6oVlLqo"
      },
      "source": [
        "from sklearn.preprocessing import PolynomialFeatures\n",
        "\n",
        "# Transformiere Inputdaten für Modell in ein Polynom \n",
        "poly_features_1 = PolynomialFeatures(degree = 3) # Grad = 3\n",
        "Xpoly_1 = poly_features_1.fit_transform(X)\n",
        "\n",
        "poly_features_2 = PolynomialFeatures(degree = 28) # Grad = 28\n",
        "Xpoly_2 = poly_features_2.fit_transform(X)"
      ],
      "execution_count": null,
      "outputs": []
    },
    {
      "cell_type": "code",
      "metadata": {
        "id": "t3WE5wh8mG6T"
      },
      "source": [
        "from sklearn.model_selection import train_test_split\n",
        "\n",
        "# Splitte Datenmenge für Training und Test\n",
        "\n",
        "# Originaldaten\n",
        "X_train, X_test, y_train, y_test = train_test_split(X, y, test_size = 0.2, random_state = 2021)\n",
        "\n",
        "# Polynomiell-transformierte Daten #1\n",
        "Xpoly1_train, Xpoly1_test, ypoly1_train, ypoly1_test = train_test_split(Xpoly_1, y, test_size = 0.2, random_state = 2021)\n",
        "\n",
        "# Polynomiell-transformierte Daten #2\n",
        "Xpoly2_train, Xpoly2_test, ypoly2_train, ypoly2_test = train_test_split(Xpoly_2, y, test_size = 0.2, random_state = 2021)"
      ],
      "execution_count": null,
      "outputs": []
    },
    {
      "cell_type": "code",
      "metadata": {
        "id": "AwTNLjQTqQDZ"
      },
      "source": [
        "from sklearn.linear_model import LogisticRegression\n",
        "\n",
        "# Erstelle eine Instanz für das LogReg Modell OHNE Regularisierung (-> penalty = \"none\")\n",
        "# Hinweis: Beachte Kombination aus PENALTY und SOLVER -> vgl. https://scikit-learn.org/stable/modules/generated/sklearn.linear_model.LogisticRegression.html\n",
        "\n",
        "log_reg   = LogisticRegression(penalty=\"none\", solver=\"saga\", max_iter=5000) # für originale Daten\n",
        "log_reg_1 = LogisticRegression(penalty=\"none\", solver=\"saga\", max_iter=5000) # für polynomiell transformierte Daten #1\n",
        "log_reg_2 = LogisticRegression(penalty=\"none\", solver=\"saga\", max_iter=5000) # für polynomiell transformierte Daten #2"
      ],
      "execution_count": null,
      "outputs": []
    },
    {
      "cell_type": "code",
      "metadata": {
        "id": "qxvahNIKlfGa"
      },
      "source": [
        "# Trainiere die Modelle mit den jeweiligen Datensätzen\n",
        "log_reg.fit(X_train, y_train)\n",
        "log_reg_1.fit(Xpoly1_train, ypoly1_train)\n",
        "log_reg_2.fit(Xpoly2_train, ypoly2_train)"
      ],
      "execution_count": null,
      "outputs": []
    },
    {
      "cell_type": "code",
      "metadata": {
        "id": "DNr_SZR-tpWV"
      },
      "source": [
        "# Klassifikationszonen visualisieren\n",
        "\n",
        "# Idee: Lege ein Punktenetz an und lass für jeden der Punkte die Klasse durch das Modell bestimmen.\n",
        "# Dadurch ergibt sich ein \"Karte\" die anzeigt welche Datenpunkte zu welcher Klasse sortiert werden.\n",
        "\n",
        "# Lege gleichmäßig verteilte Punkte für x1 und x2 Achse an\n",
        "x1_mesh = np.linspace(-1.5, 2.5, 500) # x1-Achse\n",
        "x2_mesh = np.linspace(-1.5, 2.5, 500) # x2-Achse\n",
        "\n",
        "# Füge beide Punkteverteilungen zu einem \"2D Netz\" zusammen\n",
        "x0, x1 = np.meshgrid(x1_mesh, x2_mesh)\n",
        "X_mesh = np.c_[x0.ravel(), x1.ravel()]\n",
        "\n",
        "# Vorhersage treffen auf Punktenetz\n",
        "y_pred = log_reg.predict(X_mesh).reshape(x0.shape)\n",
        "y_pred_1 = log_reg_1.predict(poly_features_1.fit_transform(X_mesh)).reshape(x0.shape)\n",
        "y_pred_2 = log_reg_2.predict(poly_features_2.fit_transform(X_mesh)).reshape(x0.shape)\n"
      ],
      "execution_count": null,
      "outputs": []
    },
    {
      "cell_type": "markdown",
      "metadata": {
        "id": "fqtuYu2WVvFh"
      },
      "source": [
        "## Unteranpassung\n",
        "\n",
        " Linear"
      ]
    },
    {
      "cell_type": "code",
      "metadata": {
        "id": "O7v0CBEjVjee"
      },
      "source": [
        "# Datensatz darstellen\n",
        "plt.figure(figsize=(15,9))\n",
        "plt.plot(X[:,0][y==0],X[:,1][y==0],'s')\n",
        "plt.plot(X[:,0][y==1],X[:,1][y==1],'o')\n",
        "\n",
        "plt.xlabel(\"Feature $x_1$\")\n",
        "plt.ylabel(\"Feature $x_2$\")\n",
        "plt.title('Unteranpassung')\n",
        "\n",
        "# Zuordnungbereiche darstellen\n",
        "plt.contourf(x0, x1, y_pred)\n",
        "\n",
        "# Interpretation:\n",
        "# Lineares Modell wird auf eine nicht-lineare Datenmenge angewendet -> Trennung ist eine Gerade\n"
      ],
      "execution_count": null,
      "outputs": []
    },
    {
      "cell_type": "code",
      "metadata": {
        "id": "tgL7rczV_fFL"
      },
      "source": [
        "from sklearn.metrics import accuracy_score, precision_score, recall_score, f1_score\n",
        "print(\"Accuracy:\\t\", accuracy_score(y_test, log_reg.predict(X_test)))\n",
        "print(\"Precision:\\t\", precision_score(y_test, log_reg.predict(X_test)))\n",
        "print(\"Recall:\\t\\t\", recall_score(y_test, log_reg.predict(X_test)))\n",
        "print(\"F1 Score:\\t\", f1_score(y_test, log_reg.predict(X_test)))"
      ],
      "execution_count": null,
      "outputs": []
    },
    {
      "cell_type": "markdown",
      "metadata": {
        "id": "EW8P1eWUV2h6"
      },
      "source": [
        "# Überanpassung\n",
        "\n",
        "Polynom #2"
      ]
    },
    {
      "cell_type": "code",
      "metadata": {
        "id": "5txeb6igN-So"
      },
      "source": [
        "# Datensatz darstellen\n",
        "plt.figure(figsize=(15,9))\n",
        "plt.plot(X[:,0][y==0], X[:,1][y==0],'s')\n",
        "plt.plot(X[:,0][y==1], X[:,1][y==1],'o')\n",
        "\n",
        "plt.xlabel(\"Feature $x_1$\")\n",
        "plt.ylabel(\"Feature $x_2$\")\n",
        "plt.title('Überanpassung')\n",
        "\n",
        "# Zuordnungbereiche darstellen\n",
        "plt.contourf(x0, x1, y_pred_2) # Klassifizierungszone passt sich sehr stark den Trainingsdaten an!\n",
        "\n",
        "# Interpretation:\n",
        "# Lineares Modell wird mit einem zu hohen Grad polynomiell erweitert und der nicht-lineare Datenmenge angewendet -> Trennung ist eine über-angepasste Linie (polynomielle Form)"
      ],
      "execution_count": null,
      "outputs": []
    },
    {
      "cell_type": "code",
      "metadata": {
        "id": "nBYY7A3a_ymA"
      },
      "source": [
        "print(\"Accuracy:\\t\", accuracy_score(ypoly2_test, log_reg_2.predict(Xpoly2_test)))\n",
        "print(\"Precision:\\t\", precision_score(ypoly2_test, log_reg_2.predict(Xpoly2_test)))\n",
        "print(\"Recall:\\t\\t\", recall_score(ypoly2_test, log_reg_2.predict(Xpoly2_test)))\n",
        "print(\"F1 Score:\\t\", f1_score(ypoly2_test, log_reg_2.predict(Xpoly2_test)))"
      ],
      "execution_count": null,
      "outputs": []
    },
    {
      "cell_type": "markdown",
      "metadata": {
        "id": "eiyaKpZkVzf5"
      },
      "source": [
        "# Komplexität nichtig gewählt\n",
        "\n",
        "Polynom #1"
      ]
    },
    {
      "cell_type": "code",
      "metadata": {
        "id": "XYwxnVfGN-P9"
      },
      "source": [
        "# Datensatz darstellen\n",
        "plt.figure(figsize=(15,9))\n",
        "plt.plot(X[:,0][y==0],X[:,1][y==0],'s')\n",
        "plt.plot(X[:,0][y==1],X[:,1][y==1],'o')\n",
        "\n",
        "plt.xlabel(\"Feature $x_1$\")\n",
        "plt.ylabel(\"Feature $x_2$\")\n",
        "plt.title('Komplexität ausreichend')\n",
        "\n",
        "# Zuordnungbereiche darstellen\n",
        "plt.contourf(x0, x1, y_pred_1)\n",
        "\n",
        "# Interpretation:\n",
        "# Lineares Modell wird mit dem korrekten Grad der nicht-lineare Datenmenge polynomiell erweitert und angewendet -> Trennung ist eine angepasste Linie (polynomielle Form)"
      ],
      "execution_count": null,
      "outputs": []
    },
    {
      "cell_type": "code",
      "metadata": {
        "id": "z40GcfMp-535"
      },
      "source": [
        "print(\"Accuracy:\\t\", accuracy_score(ypoly1_test, log_reg_1.predict(Xpoly1_test)))\n",
        "print(\"Precision:\\t\", precision_score(ypoly1_test, log_reg_1.predict(Xpoly1_test)))\n",
        "print(\"Recall:\\t\\t\", recall_score(ypoly1_test, log_reg_1.predict(Xpoly1_test)))\n",
        "print(\"F1 Score:\\t\", f1_score(ypoly1_test, log_reg_1.predict(Xpoly1_test)))"
      ],
      "execution_count": null,
      "outputs": []
    }
  ]
}