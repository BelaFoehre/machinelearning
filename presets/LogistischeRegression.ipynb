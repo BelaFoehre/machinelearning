{
  "nbformat": 4,
  "nbformat_minor": 0,
  "metadata": {
    "kernelspec": {
      "display_name": "Python 3",
      "language": "python",
      "name": "python3"
    },
    "language_info": {
      "codemirror_mode": {
        "name": "ipython",
        "version": 3
      },
      "file_extension": ".py",
      "mimetype": "text/x-python",
      "name": "python",
      "nbconvert_exporter": "python",
      "pygments_lexer": "ipython3",
      "version": "3.8.2"
    },
    "colab": {
      "name": "Übung5_LogistischeRegression.ipynb",
      "provenance": [],
      "collapsed_sections": []
    }
  },
  "cells": [
    {
      "cell_type": "markdown",
      "metadata": {
        "id": "gkXbC197G-2y"
      },
      "source": [
        "## Grundlagen Maschineller Lernverfahren | ML_INF19A | 2021\n",
        "**Datum: 19.10.2021**"
      ]
    },
    {
      "cell_type": "markdown",
      "metadata": {
        "id": "knLRwGyjhvMN"
      },
      "source": [
        "# Logistische Regression"
      ]
    },
    {
      "cell_type": "code",
      "metadata": {
        "id": "EBmJPjWIhvMP"
      },
      "source": [
        "# Biliotheken laden\n",
        "\n",
        "import numpy as np\n",
        "import matplotlib.pyplot as plt\n",
        "\n",
        "# Zufall \"beeinflussen\"\n",
        "np.random.seed(2020)"
      ],
      "execution_count": null,
      "outputs": []
    },
    {
      "cell_type": "markdown",
      "metadata": {
        "id": "I-7PTrMBhvMO"
      },
      "source": [
        "## Datensatz erstellen"
      ]
    },
    {
      "cell_type": "code",
      "metadata": {
        "id": "EEA3wYaShvMS"
      },
      "source": [
        "# Lade Bibliothek\n",
        "from sklearn.datasets import load_iris"
      ],
      "execution_count": null,
      "outputs": []
    },
    {
      "cell_type": "code",
      "metadata": {
        "id": "sRXMYOK-hvMV"
      },
      "source": [
        "# Lade Datensatz\n",
        "iris = load_iris()"
      ],
      "execution_count": null,
      "outputs": []
    },
    {
      "cell_type": "code",
      "metadata": {
        "id": "RoZDLAQDhvMX"
      },
      "source": [
        "# Separiere Daten\n",
        "X = iris[\"data\"][:,(2,3)]\n",
        "y = iris[\"target\"]"
      ],
      "execution_count": null,
      "outputs": []
    },
    {
      "cell_type": "code",
      "metadata": {
        "id": "vRMcyLfEytRR"
      },
      "source": [
        "# Anzeige der Trainingsdaten\n",
        "print(X,y)"
      ],
      "execution_count": null,
      "outputs": []
    },
    {
      "cell_type": "code",
      "metadata": {
        "id": "GS7L9KvphvMZ"
      },
      "source": [
        "# Filtere die Dateninstanzen heraus die zur Klasse 0 und 1 gehören\n",
        "\n",
        "X = X[(y==0) | (y==1)]\n",
        "y = y[(y==0) | (y==1)]"
      ],
      "execution_count": null,
      "outputs": []
    },
    {
      "cell_type": "code",
      "metadata": {
        "id": "oBtYeKTQhvMb"
      },
      "source": [
        "# Visualisiere die Daten\n",
        "\n",
        "plt.plot(X[:, 0][y==0], X[:, 1][y==0], \"bv\")\n",
        "plt.plot(X[:, 0][y==1], X[:, 1][y==1], \"go\")"
      ],
      "execution_count": null,
      "outputs": []
    },
    {
      "cell_type": "code",
      "metadata": {
        "id": "O4uIUUthhvMd"
      },
      "source": [
        "# Erstelle Datenmengen für Training und Validierung\n",
        "from sklearn.model_selection import train_test_split\n",
        "X_train, X_test, y_train, y_test = train_test_split(X, y, test_size = 0.3)"
      ],
      "execution_count": null,
      "outputs": []
    },
    {
      "cell_type": "markdown",
      "metadata": {
        "id": "2uDSC2vfhvMg"
      },
      "source": [
        "## Anwendung"
      ]
    },
    {
      "cell_type": "code",
      "metadata": {
        "id": "BZ5QJMtKhvMg"
      },
      "source": [
        "# Lade Bibliothek\n",
        "from sklearn.linear_model import LogisticRegression\n",
        "\n",
        "# Erstelle Instanz\n",
        "log_reg = LogisticRegression()\n"
      ],
      "execution_count": null,
      "outputs": []
    },
    {
      "cell_type": "code",
      "metadata": {
        "id": "c6V5aZkjzXaB"
      },
      "source": [
        "# Trainiere\n",
        "log_reg.fit(X_train,y_train)\n",
        "\n",
        "# Vorhersage auf Validierungsdaten\n",
        "y_pred1 = log_reg.predict(X_test)\n",
        "\n",
        "# Analysiere gelernte Parameter\n",
        "b = log_reg.intercept_\n",
        "w = log_reg.coef_\n",
        "\n",
        "print(b,w)"
      ],
      "execution_count": null,
      "outputs": []
    },
    {
      "cell_type": "code",
      "metadata": {
        "id": "lRhcDgHHhvMj"
      },
      "source": [
        "# Berechne Accuracy\n",
        "from sklearn.metrics import accuracy_score\n",
        "accuracy_score(y_test,y_pred1)"
      ],
      "execution_count": null,
      "outputs": []
    },
    {
      "cell_type": "code",
      "metadata": {
        "id": "l8ZJRuEehvMl"
      },
      "source": [
        "# Zeichne Trennlinie\n",
        "Xline = np.linspace(1,5,100)\n",
        "plt.plot(X[:, 0][y==0], X[:, 1][y==0], \"bv\")\n",
        "plt.plot(X[:, 0][y==1], X[:, 1][y==1], \"go\")\n",
        "plt.plot(Xline, -(b + w[0,0]*Xline)/w[0,1],'r')"
      ],
      "execution_count": null,
      "outputs": []
    },
    {
      "cell_type": "markdown",
      "metadata": {
        "id": "w64ggiAThvMz"
      },
      "source": [
        "## SGDClassifier (als LogReg)"
      ]
    },
    {
      "cell_type": "code",
      "metadata": {
        "id": "vSWXaVpdhvMz"
      },
      "source": [
        "# Lade Modell\n",
        "from sklearn.linear_model import SGDClassifier\n",
        "\n",
        "# Erstelle Instanz\n",
        "sgd = SGDClassifier(loss=\"log\")\n",
        "\n",
        "# Trainiere\n",
        "sgd.fit(X_train,y_train)\n",
        "\n",
        "# Vorhersage\n",
        "y_pred_sgd = sgd.predict(X_test)\n",
        "\n",
        "# Analysiere gelernte Parameter\n",
        "b_sgd = sgd.intercept_\n",
        "w_sgd = sgd.coef_\n",
        "\n",
        "print(b_sgd,w_sgd)"
      ],
      "execution_count": null,
      "outputs": []
    },
    {
      "cell_type": "code",
      "metadata": {
        "id": "rnVQ8RexhvM1"
      },
      "source": [
        "# Visualisiere\n",
        "\n",
        "Xline = np.linspace(1,5,100)\n",
        "plt.plot(X[:, 0][y==0], X[:, 1][y==0], \"bv\")\n",
        "plt.plot(X[:, 0][y==1], X[:, 1][y==1], \"go\")\n",
        "plt.plot(Xline, -(b_sgd + w_sgd[0,0]*Xline)/w_sgd[0,1],'m')\n",
        "plt.plot(Xline, -(b + w[0,0]*Xline)/w[0,1],'r')"
      ],
      "execution_count": null,
      "outputs": []
    },
    {
      "cell_type": "markdown",
      "metadata": {
        "id": "sXKQoletYT7I"
      },
      "source": [
        "# MultiClass"
      ]
    },
    {
      "cell_type": "code",
      "metadata": {
        "id": "pG5QR8N_bTKh"
      },
      "source": [
        "#Separiere Daten und Labels\n",
        "X_ml = iris[\"data\"][:,(2,3)]\n",
        "y_ml = iris[\"target\"]"
      ],
      "execution_count": null,
      "outputs": []
    },
    {
      "cell_type": "code",
      "metadata": {
        "id": "VUVkJRVibVpm"
      },
      "source": [
        "y_ml"
      ],
      "execution_count": null,
      "outputs": []
    },
    {
      "cell_type": "code",
      "metadata": {
        "id": "YalyeLStaM6G"
      },
      "source": [
        "# Visualisiere alle Daten (insg. 3 Klassen)\n",
        "plt.figure(figsize=(15,9))\n",
        "plt.plot(X_ml[:, 0][y_ml==0], X_ml[:, 1][y_ml==0], \"bv\")\n",
        "plt.plot(X_ml[:, 0][y_ml==1], X_ml[:, 1][y_ml==1], \"go\")\n",
        "plt.plot(X_ml[:, 0][y_ml==2], X_ml[:, 1][y_ml==2], \"m^\")"
      ],
      "execution_count": null,
      "outputs": []
    },
    {
      "cell_type": "code",
      "metadata": {
        "id": "LkNPCTT4dNJ2"
      },
      "source": [
        "# Erstelle Datenmengen für Training und Validierung\n",
        "X_train_ml, X_test_ml, y_train_ml, y_test_ml = train_test_split(X_ml, y_ml, test_size = 0.3)"
      ],
      "execution_count": null,
      "outputs": []
    },
    {
      "cell_type": "markdown",
      "metadata": {
        "id": "eVI2225McXdk"
      },
      "source": [
        "### Build-In Funktion"
      ]
    },
    {
      "cell_type": "code",
      "metadata": {
        "id": "kiwjo6C-Y8Um"
      },
      "source": [
        "# Erstelle Instanz des Klassifizierers\n",
        "log_reg_ovr = LogisticRegression(multi_class='ovr') # default = 'auto' -> Dokumentation"
      ],
      "execution_count": null,
      "outputs": []
    },
    {
      "cell_type": "code",
      "metadata": {
        "id": "MQhSkTloccDH"
      },
      "source": [
        "# Trainiere\n",
        "log_reg_ovr.fit(X_train_ml,y_train_ml)\n",
        "\n",
        "# Vorhersage auf Validierungsdaten\n",
        "y_pred_ovr = log_reg_ovr.predict(X_test_ml)\n",
        "\n",
        "# Analysiere gelernte Parameter\n",
        "b_ovr = log_reg_ovr.intercept_\n",
        "w_ovr = log_reg_ovr.coef_\n",
        "\n",
        "# Zeige Parameter für jedes gelernte Modell an (insg. 3 Modelle)\n",
        "print(b_ovr,w_ovr)"
      ],
      "execution_count": null,
      "outputs": []
    },
    {
      "cell_type": "code",
      "metadata": {
        "id": "9L_xeB41dkYk"
      },
      "source": [
        "#b_ovr.shape"
      ],
      "execution_count": null,
      "outputs": []
    },
    {
      "cell_type": "code",
      "metadata": {
        "id": "0KkrqXldeFv4"
      },
      "source": [
        "#w_ovr.shape"
      ],
      "execution_count": null,
      "outputs": []
    },
    {
      "cell_type": "code",
      "metadata": {
        "id": "PtAKm86wfATo"
      },
      "source": [
        "# Zeichne Trennlinie\n",
        "Xline = np.linspace(1,7,100)\n",
        "\n",
        "plt.figure(figsize=(15,9))\n",
        "plt.plot(X_ml[:, 0][y_ml==0], X_ml[:, 1][y_ml==0], \"bv\")\n",
        "plt.plot(X_ml[:, 0][y_ml==1], X_ml[:, 1][y_ml==1], \"go\")\n",
        "plt.plot(X_ml[:, 0][y_ml==2], X_ml[:, 1][y_ml==2], \"m^\")\n",
        "\n",
        "plt.plot(Xline, -(b_ovr[0] + w_ovr[0,0]*Xline)/w_ovr[0,1],'b')\n",
        "plt.plot(Xline, -(b_ovr[1] + w_ovr[1,0]*Xline)/w_ovr[1,1],'g')\n",
        "plt.plot(Xline, -(b_ovr[2] + w_ovr[2,0]*Xline)/w_ovr[2,1],'m')"
      ],
      "execution_count": null,
      "outputs": []
    },
    {
      "cell_type": "markdown",
      "metadata": {
        "id": "WRA-IyX_ccov"
      },
      "source": [
        "### Explizite One-vs-Rest (OvR) Strategie"
      ]
    },
    {
      "cell_type": "code",
      "metadata": {
        "id": "mwfTFyaCaM8X"
      },
      "source": [
        "# Lade Bibliothek\n",
        "from sklearn.multiclass import OneVsRestClassifier"
      ],
      "execution_count": null,
      "outputs": []
    },
    {
      "cell_type": "code",
      "metadata": {
        "id": "Qb8J-hm3cBfI"
      },
      "source": [
        "# Erstelle Instanz für LogRegression\n",
        "log_reg_2 = LogisticRegression()\n",
        "\n",
        "# Erstelle Instanz der OvR \"Strategie\"\n",
        "ovr_clf = OneVsRestClassifier(log_reg_2)"
      ],
      "execution_count": null,
      "outputs": []
    },
    {
      "cell_type": "code",
      "metadata": {
        "id": "LuAIczrNgJxm"
      },
      "source": [
        "# Training\n",
        "ovr_clf.fit(X_ml,y_ml)"
      ],
      "execution_count": null,
      "outputs": []
    },
    {
      "cell_type": "code",
      "metadata": {
        "id": "kL24PKCogVLk"
      },
      "source": [
        "# Welche Klassen wurden verwendet?\n",
        "ovr_clf.classes_"
      ],
      "execution_count": null,
      "outputs": []
    },
    {
      "cell_type": "code",
      "metadata": {
        "id": "yNn-TtdHga2U"
      },
      "source": [
        "# Zugriff auf die einzelnen Modelle der OvR Strategie\n",
        "ovr_clf.estimators_"
      ],
      "execution_count": null,
      "outputs": []
    },
    {
      "cell_type": "code",
      "metadata": {
        "id": "AvrCvloRgmf1"
      },
      "source": [
        "# Zeige die Parameter der einzelnen Modelle der OvR Strategie\n",
        "print(ovr_clf.estimators_[0].intercept_, ovr_clf.estimators_[0].coef_)\n",
        "print(ovr_clf.estimators_[1].intercept_, ovr_clf.estimators_[1].coef_)\n",
        "print(ovr_clf.estimators_[2].intercept_, ovr_clf.estimators_[2].coef_)"
      ],
      "execution_count": null,
      "outputs": []
    },
    {
      "cell_type": "code",
      "metadata": {
        "id": "qbdERX8qg64I"
      },
      "source": [
        "# Erinnerung: Build-In OvR bei LogRegression\n",
        "b_ovr, w_ovr"
      ],
      "execution_count": null,
      "outputs": []
    },
    {
      "cell_type": "code",
      "metadata": {
        "id": "eaBHx_zphjCU"
      },
      "source": [
        "# Separiere einzelne Parameter\n",
        "b_ovr_strategy_0, w_ovr_strategy_0 = ovr_clf.estimators_[0].intercept_, ovr_clf.estimators_[0].coef_\n",
        "b_ovr_strategy_1, w_ovr_strategy_1 = ovr_clf.estimators_[1].intercept_, ovr_clf.estimators_[1].coef_\n",
        "b_ovr_strategy_2, w_ovr_strategy_2 = ovr_clf.estimators_[2].intercept_, ovr_clf.estimators_[2].coef_"
      ],
      "execution_count": null,
      "outputs": []
    },
    {
      "cell_type": "code",
      "metadata": {
        "id": "69p7oIeIhdO2"
      },
      "source": [
        "# Zeichne Trennlinie\n",
        "Xline = np.linspace(1,7,100)\n",
        "\n",
        "plt.figure(figsize=(15,9))\n",
        "\n",
        "# Zeichne Datenpunkte\n",
        "plt.plot(X_ml[:, 0][y_ml==0], X_ml[:, 1][y_ml==0], \"bv\")\n",
        "plt.plot(X_ml[:, 0][y_ml==1], X_ml[:, 1][y_ml==1], \"go\")\n",
        "plt.plot(X_ml[:, 0][y_ml==2], X_ml[:, 1][y_ml==2], \"m^\")\n",
        "\n",
        "# Zeichne Trenngeraden der Build-In Strategie als durchgängige Linie\n",
        "plt.plot(Xline, -(b_ovr[0] + w_ovr[0,0]*Xline)/w_ovr[0,1],'b')\n",
        "plt.plot(Xline, -(b_ovr[1] + w_ovr[1,0]*Xline)/w_ovr[1,1],'g')\n",
        "plt.plot(Xline, -(b_ovr[2] + w_ovr[2,0]*Xline)/w_ovr[2,1],'m')\n",
        "\n",
        "# Zeichne Trenngeraden der OvR Strategie als gepunktete Linie\n",
        "plt.plot(Xline, -(b_ovr_strategy_0 + w_ovr_strategy_0[0,0]*Xline)/w_ovr_strategy_0[0,1],'b.')\n",
        "plt.plot(Xline, -(b_ovr_strategy_1 + w_ovr_strategy_1[0,0]*Xline)/w_ovr_strategy_1[0,1],'g.')\n",
        "plt.plot(Xline, -(b_ovr_strategy_2 + w_ovr_strategy_2[0,0]*Xline)/w_ovr_strategy_2[0,1],'m.')"
      ],
      "execution_count": null,
      "outputs": []
    },
    {
      "cell_type": "markdown",
      "metadata": {
        "id": "i7FgpvSsWmPY"
      },
      "source": [
        "# PolynomialFeatures"
      ]
    },
    {
      "cell_type": "code",
      "metadata": {
        "id": "BvU0vXh1WoHs"
      },
      "source": [
        "# Lade Bibliotheken\n",
        "from sklearn.preprocessing import PolynomialFeatures\n",
        "from sklearn.datasets import make_circles # https://scikit-learn.org/stable/modules/generated/sklearn.datasets.make_circles.html"
      ],
      "execution_count": null,
      "outputs": []
    },
    {
      "cell_type": "code",
      "metadata": {
        "id": "WHz6RAM8l1EM"
      },
      "source": [
        "# Erstelle Datensatz\n",
        "data = make_circles()\n",
        "\n",
        "X = data[0]\n",
        "y = data[1]"
      ],
      "execution_count": null,
      "outputs": []
    },
    {
      "cell_type": "code",
      "metadata": {
        "id": "2MtUmM5tmG1Y"
      },
      "source": [
        "# Zeichne Datenpunkte\n",
        "plt.figure(figsize=(15,9))\n",
        "plt.plot(X[:,0][y==0],X[:,1][y==0],'s')\n",
        "plt.plot(X[:,0][y==1],X[:,1][y==1],'o')"
      ],
      "execution_count": null,
      "outputs": []
    },
    {
      "cell_type": "code",
      "metadata": {
        "id": "aZXxcPKfoJoJ"
      },
      "source": [
        "#X"
      ],
      "execution_count": null,
      "outputs": []
    },
    {
      "cell_type": "code",
      "metadata": {
        "id": "rg4T_6oVlLqo"
      },
      "source": [
        "# Transformiere Inputdaten für Modell in ein Polynom 2. Grades\n",
        "poly_features = PolynomialFeatures(degree=2)\n",
        "Xpoly = poly_features.fit_transform(X)"
      ],
      "execution_count": null,
      "outputs": []
    },
    {
      "cell_type": "code",
      "metadata": {
        "id": "MlxfqelFlfEX"
      },
      "source": [
        "#Xpoly"
      ],
      "execution_count": null,
      "outputs": []
    },
    {
      "cell_type": "code",
      "metadata": {
        "id": "t3WE5wh8mG6T"
      },
      "source": [
        "# Splitte Datenmenge für Training und Test\n",
        "X_train, X_test, y_train, y_test = train_test_split(X, y, test_size = 0.2)\n",
        "Xpoly_train, Xpoly_test, ypoly_train, ypoly_test = train_test_split(Xpoly, y, test_size = 0.2)"
      ],
      "execution_count": null,
      "outputs": []
    },
    {
      "cell_type": "code",
      "metadata": {
        "id": "AwTNLjQTqQDZ"
      },
      "source": [
        "# Erstelle eine Instanz für das LogReg Modell\n",
        "log_reg = LogisticRegression()"
      ],
      "execution_count": null,
      "outputs": []
    },
    {
      "cell_type": "code",
      "metadata": {
        "id": "qxvahNIKlfGa"
      },
      "source": [
        "# Verwende die ursprünglich Datenmenge mit dem LogReg Modell\n",
        "log_reg.fit(X_train, y_train)\n",
        "y_pred_pf_1 = log_reg.predict(X_test)\n",
        "\n",
        "# Bewerte das Modell\n",
        "print(\"Accuracy: \",accuracy_score(y_pred_pf_1,y_test))\n",
        "\n",
        "# Analysiere die Parameter\n",
        "print(log_reg.intercept_,log_reg.coef_)"
      ],
      "execution_count": null,
      "outputs": []
    },
    {
      "cell_type": "code",
      "metadata": {
        "id": "c6Nz_BFaodxM"
      },
      "source": [
        "# Verwende die transformierte Datenmenge \n",
        "log_reg.fit(Xpoly_train, ypoly_train)\n",
        "y_pred_pf_2 = log_reg.predict(Xpoly_test)\n",
        "\n",
        "# Bewerte das Modell\n",
        "print(\"Accuracy: \", accuracy_score(y_pred_pf_2,ypoly_test))\n",
        "\n",
        "# Analysiere die Parameter\n",
        "print(log_reg.intercept_,log_reg.coef_)"
      ],
      "execution_count": null,
      "outputs": []
    }
  ]
}