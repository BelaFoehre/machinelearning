{
  "nbformat": 4,
  "nbformat_minor": 0,
  "metadata": {
    "accelerator": "GPU",
    "colab": {
      "name": "Übung7_ConvolutionalNetworks.ipynb",
      "provenance": [],
      "collapsed_sections": []
    },
    "kernelspec": {
      "display_name": "Python 3",
      "language": "python",
      "name": "python3"
    },
    "language_info": {
      "codemirror_mode": {
        "name": "ipython",
        "version": 3
      },
      "file_extension": ".py",
      "mimetype": "text/x-python",
      "name": "python",
      "nbconvert_exporter": "python",
      "pygments_lexer": "ipython3",
      "version": "3.8.2"
    }
  },
  "cells": [
    {
      "cell_type": "markdown",
      "metadata": {
        "id": "3pR-s-suU2PR"
      },
      "source": [
        "## Grundlagen Maschineller Lernverfahren | ML_INF19A | 2021\n",
        "**Datum: 28.10.2021**"
      ]
    },
    {
      "cell_type": "markdown",
      "metadata": {
        "id": "P5x-YAEYUtvi"
      },
      "source": [
        "# Convolutional Neural Networks (CNN)\n",
        "Ressourcen: https://www.tensorflow.org/api_docs/python/tf"
      ]
    },
    {
      "cell_type": "markdown",
      "metadata": {
        "id": "L-uHHIJYUtvr"
      },
      "source": [
        "## Lade Daten\n",
        "\n",
        "Verwende CIFAR10 Datensatz"
      ]
    },
    {
      "cell_type": "code",
      "metadata": {
        "id": "cHY0FDzqV_Ns"
      },
      "source": [
        "# Lade Bibliotheken\n",
        "from tensorflow.keras.datasets import cifar10 # https://www.cs.toronto.edu/~kriz/cifar.html"
      ],
      "execution_count": null,
      "outputs": []
    },
    {
      "cell_type": "code",
      "metadata": {
        "id": "VFB1mlmAUtvs"
      },
      "source": [
        "# Lade den Datensatz\n",
        "# Hinweis: Kann beim ersten Aufruf den Download starten\n",
        "(X_train, y_train), (X_test, y_test) = cifar10.load_data()"
      ],
      "execution_count": null,
      "outputs": []
    },
    {
      "cell_type": "markdown",
      "metadata": {
        "id": "7wm6IL7DZyOz"
      },
      "source": [
        "## Analysiere"
      ]
    },
    {
      "cell_type": "code",
      "metadata": {
        "id": "qyCTKk8_Utvv"
      },
      "source": [
        "# Anzeige der Dimensionen\n",
        "print(X_train.shape) # -> 50.000 32x32x3 Bilder (RGB)\n",
        "print(y_train.shape)\n",
        "print(X_test.shape)\n",
        "print(y_test.shape)"
      ],
      "execution_count": null,
      "outputs": []
    },
    {
      "cell_type": "code",
      "metadata": {
        "id": "-Zb3ZqhWXpTS"
      },
      "source": [
        "print(X_train[0])\n",
        "print(y_train[0])"
      ],
      "execution_count": null,
      "outputs": []
    },
    {
      "cell_type": "code",
      "metadata": {
        "id": "RIRPIQraYbNI"
      },
      "source": [
        "# Blick in die Label\n",
        "print(y_train) # -> nur Zahlen"
      ],
      "execution_count": null,
      "outputs": []
    },
    {
      "cell_type": "code",
      "metadata": {
        "id": "XZUhWZffX_MZ"
      },
      "source": [
        "# Nutze Informationen von der Homepage des Datensatzes um den Integer-Werten der Klassen aussagekräftige Labelnamne zuzuweisen\n",
        "# vgl. https://www.cs.toronto.edu/~kriz/cifar.html\n",
        "\n",
        "labels = ['Flugzeug', 'Auto', 'Vogel', 'Katze', 'Wild', 'Hund', 'Frosch', 'Pferd', 'Schiff', 'LKW']"
      ],
      "execution_count": null,
      "outputs": []
    },
    {
      "cell_type": "code",
      "metadata": {
        "id": "e2y08BWdUtv0"
      },
      "source": [
        "# Lade Bibliotheken\n",
        "import matplotlib.pyplot as plt\n",
        "import numpy as np"
      ],
      "execution_count": null,
      "outputs": []
    },
    {
      "cell_type": "code",
      "metadata": {
        "id": "768VomnoW9m5"
      },
      "source": [
        "# Gebe ein beliebiges Bild aus\n",
        "rnd_image = np.random.randint(0, X_train.shape[0]) # Wähle zufällig einen Index\n",
        "\n",
        "plt.imshow(X_train[rnd_image])\n",
        "plt.xticks([])\n",
        "plt.yticks([])\n",
        "plt.xlabel(\"Bild #%d (%s)\\n\" % (rnd_image, labels[y_train[rnd_image][0]]))"
      ],
      "execution_count": null,
      "outputs": []
    },
    {
      "cell_type": "markdown",
      "metadata": {
        "id": "2UHB6j-EZ2dJ"
      },
      "source": [
        "## Daten aufbereiten"
      ]
    },
    {
      "cell_type": "code",
      "metadata": {
        "id": "kznBoCLsasTv"
      },
      "source": [
        "# Lade Bibliothek zum Skalieren\n",
        "from tensorflow.keras.layers.experimental.preprocessing import Rescaling\n",
        "\n",
        "# Multipliziere alle Werte mit 1/255\n",
        "X_train = Rescaling(scale=1./255)(X_train)\n",
        "X_test = Rescaling(scale=1./255)(X_test)\n",
        "print(X_train) # Ausgabe ist jetzt Tensor (kein numpy Array mehr!)\n",
        "#print(X_test)"
      ],
      "execution_count": null,
      "outputs": []
    },
    {
      "cell_type": "code",
      "metadata": {
        "id": "IyHhk-1Ybn4D"
      },
      "source": [
        "# Exkurs: Tensor in Numpyarray konvertieren\n",
        "X_train_np = X_train.numpy()\n",
        "print(X_train_np)"
      ],
      "execution_count": null,
      "outputs": []
    },
    {
      "cell_type": "code",
      "metadata": {
        "id": "x9EOHrWfcorJ"
      },
      "source": [
        "# Lade Bibliothek zum Kippen des Bildes\n",
        "from tensorflow.keras.layers.experimental.preprocessing import RandomFlip\n",
        "\n",
        "# Führe Transformation aus\n",
        "X_train = RandomFlip(mode='horizontal')(X_train)\n",
        "X_test = RandomFlip(mode='horizontal')(X_test)\n",
        "\n",
        "# NUR zum TESTEN! -> unplausible Transformation\n",
        "#X_train = RandomFlip(mode='vertical')(X_train) "
      ],
      "execution_count": null,
      "outputs": []
    },
    {
      "cell_type": "code",
      "metadata": {
        "id": "URfsNiiVco3m"
      },
      "source": [
        "# Gebe ein beliebiges Bild aus\n",
        "rnd_image = np.random.randint(0, X_train.shape[0]) # Wähle zufällig einen Index\n",
        "\n",
        "plt.imshow(X_train[rnd_image])\n",
        "plt.xticks([])\n",
        "plt.yticks([])\n",
        "plt.xlabel(\"Bild #%d (%s)\\n\" % (rnd_image, labels[y_train[rnd_image][0]]))"
      ],
      "execution_count": null,
      "outputs": []
    },
    {
      "cell_type": "markdown",
      "metadata": {
        "id": "LB58TkacUtv_"
      },
      "source": [
        "## CNN Architektur"
      ]
    },
    {
      "cell_type": "code",
      "metadata": {
        "id": "AY4CgsY2Utvl"
      },
      "source": [
        "# Lade Bibliotheken\n",
        "\n",
        "# Das Model\n",
        "from tensorflow.keras.models import Sequential\n",
        "\n",
        "# Input Layer\n",
        "from tensorflow.keras import Input\n",
        "\n",
        "# Layer für Merkmalsextraktion\n",
        "from tensorflow.keras.layers import Conv2D, MaxPooling2D, Activation\n",
        "\n",
        "# Layer für Klassifikator\n",
        "from tensorflow.keras.layers import Dense, Flatten"
      ],
      "execution_count": null,
      "outputs": []
    },
    {
      "cell_type": "code",
      "metadata": {
        "id": "-QOOFHgghxdb"
      },
      "source": [
        "# Dimensionen der Trainingsdaten\n",
        "print(X_train.shape)\n",
        "\n",
        "# Sicherstellen, dass Trainings und Testdaten die gleiche Dimension haben\n",
        "assert X_train.shape[1:] == X_test.shape[1:] # Ignoriere Batch Dimension"
      ],
      "execution_count": null,
      "outputs": []
    },
    {
      "cell_type": "code",
      "metadata": {
        "id": "NcZ8uILRi3qq"
      },
      "source": [
        "# Prüfe wieviele Label/Klassen in der Aufgabe vorkommen \n",
        "print(np.unique(y_train))\n",
        "\n",
        "# Bestimme die Anzahl der Knoten im Ausgabelayer\n",
        "num_classes = len(np.unique(y_train))\n",
        "print(num_classes)"
      ],
      "execution_count": null,
      "outputs": []
    },
    {
      "cell_type": "code",
      "metadata": {
        "id": "C2B-9nisUtwC"
      },
      "source": [
        "# Grundgerüst: Sequentialmodell\n",
        "model = Sequential()\n",
        "\n",
        "# Input Layer\n",
        "model.add(Input(shape=X_train.shape[1:], name='Input'))\n",
        "\n",
        "# BLOCK: Merkmalsextraktion\n",
        "#############################\n",
        "\n",
        "# Conv-Layer 1\n",
        "model.add(Conv2D(filters=8, kernel_size=(3,3), activation='relu', padding='same', name='Conv1'))\n",
        "model.add(MaxPooling2D(pool_size=(2,2), strides=(2,2)))\n",
        "\n",
        "# Conv-Layer 2\n",
        "model.add(Conv2D(filters=16, kernel_size=(3,3), strides=(2, 2), activation='relu', padding='valid', name='Conv2'))\n",
        "model.add(MaxPooling2D(pool_size=(2,2), strides=(2,2)))\n",
        "\n",
        "\n",
        "# TRANSFORMATION\n",
        "#############################\n",
        "\n",
        "# Tranformation 2D -> 1D\n",
        "model.add(Flatten(name='FLATTEN'))\n",
        "\n",
        "# BLOCK: Klassifikation\n",
        "#############################\n",
        "\n",
        "# FC Layer 1\n",
        "model.add(Dense(53, name='Hidden1'))\n",
        "model.add(Activation('relu', name='Hidden1_Act'))\n",
        "\n",
        "# FC Layer 2\n",
        "model.add(Dense(40, name='Hidden2'))\n",
        "model.add(Activation('relu', name='Hidden2_Act'))\n",
        "\n",
        "# FC Layer 3\n",
        "#model.add(Dense(25, name='Hidden3'))\n",
        "#model.add(Activation('relu', name='Hidden3_Act'))\n",
        "\n",
        "# Output Layer\n",
        "model.add(Dense(num_classes, name='Output'))\n",
        "model.add(Activation('softmax', name='Output_softmax'))"
      ],
      "execution_count": null,
      "outputs": []
    },
    {
      "cell_type": "code",
      "metadata": {
        "id": "UYwnxMLIiZbD"
      },
      "source": [
        "# Zeige Modellstruktur\n",
        "model.summary()\n",
        "\n",
        "# Parameter Berechnung Layer 1 (stride = 0):\n",
        "# (3x3*3 + 1) * 8 = 224 Parameter\n",
        "\n",
        "\n",
        "# (25 + 1) * 40 = 1025 (DENSE)\n",
        "# Flatten: 3*3*16 = 144 Knoten"
      ],
      "execution_count": null,
      "outputs": []
    },
    {
      "cell_type": "code",
      "metadata": {
        "id": "CVviS8KHm_ib"
      },
      "source": [
        "# Modell als Bild ausgeben\n",
        "from tensorflow.keras.utils import plot_model\n",
        "plot_model(model, to_file='CNN_model_XYZ.png', show_shapes=True, show_layer_names=True)"
      ],
      "execution_count": null,
      "outputs": []
    },
    {
      "cell_type": "code",
      "metadata": {
        "id": "Diz3YmsxUtwE"
      },
      "source": [
        "# Modell zusammenbauen\n",
        "model.compile(loss=\"categorical_crossentropy\", metrics=[\"accuracy\"], optimizer='sgd')"
      ],
      "execution_count": null,
      "outputs": []
    },
    {
      "cell_type": "markdown",
      "metadata": {
        "id": "VWWT4LDKUtv4"
      },
      "source": [
        "## Vorbereiten der Label"
      ]
    },
    {
      "cell_type": "code",
      "metadata": {
        "id": "pLSd9oCzUtv5"
      },
      "source": [
        "# Lade Bibliothek\n",
        "from tensorflow.keras.utils import to_categorical\n",
        "\n",
        "# Prüfe Labeldimension\n",
        "print(y_train.shape) # 50000x1 Vektor\n",
        "\n",
        "# Umwandlung in One-Hot Vektor (vgl. Dokumentation \"to_categorical\")\n",
        "y_train_1hot = to_categorical(y_train, num_classes)\n",
        "y_test_1hot = to_categorical(y_test, num_classes)\n",
        "\n",
        "# Prüfen des Ergebnisses\n",
        "print(y_train[:10])\n",
        "print(y_train_1hot[:10])"
      ],
      "execution_count": null,
      "outputs": []
    },
    {
      "cell_type": "markdown",
      "metadata": {
        "id": "jgsrdTBcUtwI"
      },
      "source": [
        "## Model trainieren"
      ]
    },
    {
      "cell_type": "code",
      "metadata": {
        "id": "DcAJdRnHUtwJ"
      },
      "source": [
        "# Speichere Verlauf des Trainings\n",
        "history = model.fit(X_train, y_train_1hot, validation_data=(X_test, y_test_1hot), batch_size=100, epochs=7, verbose=1)"
      ],
      "execution_count": null,
      "outputs": []
    },
    {
      "cell_type": "markdown",
      "metadata": {
        "id": "6WhrFdOJUtwN"
      },
      "source": [
        "## Model verifizieren"
      ]
    },
    {
      "cell_type": "code",
      "metadata": {
        "id": "F5YtKcSSUtwO"
      },
      "source": [
        "# Model verifizieren auf Testdaten\n",
        "model.evaluate(X_test, y_test_1hot, verbose=1)"
      ],
      "execution_count": null,
      "outputs": []
    },
    {
      "cell_type": "markdown",
      "metadata": {
        "id": "Cu-VWo30pMOZ"
      },
      "source": [
        "## Trainingsverlauf analysieren"
      ]
    },
    {
      "cell_type": "code",
      "metadata": {
        "id": "d3ot-QG-rCih"
      },
      "source": [
        "# Werte anzeigen\n",
        "print(history.history['accuracy'])\n",
        "print(history.history['val_accuracy'])"
      ],
      "execution_count": null,
      "outputs": []
    },
    {
      "cell_type": "code",
      "metadata": {
        "id": "ZCeDJnr9rNGy"
      },
      "source": [
        "# Epochen anzeigen\n",
        "history.epoch"
      ],
      "execution_count": null,
      "outputs": []
    },
    {
      "cell_type": "code",
      "metadata": {
        "id": "tGSgtpoXpLsj"
      },
      "source": [
        "# Verläufe zeichnen\n",
        "plt.figure(figsize=(15,9))\n",
        "plt.plot(history.history['accuracy'], label='accuracy')\n",
        "plt.plot(history.history['val_accuracy'], label = 'val_accuracy')\n",
        "plt.xlabel('Epoche')\n",
        "plt.ylabel('Accuracy')\n",
        "plt.legend()"
      ],
      "execution_count": null,
      "outputs": []
    }
  ]
}